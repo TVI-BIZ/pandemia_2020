{
 "cells": [
  {
   "cell_type": "code",
   "execution_count": 2,
   "metadata": {},
   "outputs": [],
   "source": [
    "import pandas as pd\n",
    "import numpy as np\n",
    "import matplotlib.pyplot as plt\n",
    "import seaborn as sns\n",
    "%matplotlib inline"
   ]
  },
  {
   "cell_type": "code",
   "execution_count": 974,
   "metadata": {},
   "outputs": [],
   "source": [
    "df_tr = pd.read_csv('/Users/vlad3d/Hackatons/PANDEMIC_HACK/data/pandemicdatahack/train.csv',sep=';',encoding='utf-8')"
   ]
  },
  {
   "cell_type": "code",
   "execution_count": 878,
   "metadata": {},
   "outputs": [
    {
     "data": {
      "text/html": [
       "<div>\n",
       "<style scoped>\n",
       "    .dataframe tbody tr th:only-of-type {\n",
       "        vertical-align: middle;\n",
       "    }\n",
       "\n",
       "    .dataframe tbody tr th {\n",
       "        vertical-align: top;\n",
       "    }\n",
       "\n",
       "    .dataframe thead th {\n",
       "        text-align: right;\n",
       "    }\n",
       "</style>\n",
       "<table border=\"1\" class=\"dataframe\">\n",
       "  <thead>\n",
       "    <tr style=\"text-align: right;\">\n",
       "      <th></th>\n",
       "      <th>id</th>\n",
       "      <th>position</th>\n",
       "      <th>region</th>\n",
       "      <th>industry</th>\n",
       "      <th>locality</th>\n",
       "      <th>locality_name</th>\n",
       "      <th>education_type</th>\n",
       "      <th>drive_licences</th>\n",
       "      <th>citizenship</th>\n",
       "      <th>schedule</th>\n",
       "      <th>...</th>\n",
       "      <th>relocation_ready</th>\n",
       "      <th>travel_ready</th>\n",
       "      <th>retraining_ready</th>\n",
       "      <th>is_worldskills_participant</th>\n",
       "      <th>has_qualifications</th>\n",
       "      <th>completeness_rate</th>\n",
       "      <th>creation_date</th>\n",
       "      <th>modification_date</th>\n",
       "      <th>publish_date</th>\n",
       "      <th>salary</th>\n",
       "    </tr>\n",
       "  </thead>\n",
       "  <tbody>\n",
       "    <tr>\n",
       "      <th>0</th>\n",
       "      <td>0</td>\n",
       "      <td>Специалист</td>\n",
       "      <td>Тульская область</td>\n",
       "      <td>Государственная служба, некоммерческие организ...</td>\n",
       "      <td>7100000100000</td>\n",
       "      <td>Тула</td>\n",
       "      <td>Незаконченное высшее</td>\n",
       "      <td>[B]</td>\n",
       "      <td>Российская Федерация</td>\n",
       "      <td>Полный рабочий день</td>\n",
       "      <td>...</td>\n",
       "      <td>False</td>\n",
       "      <td>False</td>\n",
       "      <td>True</td>\n",
       "      <td>NaN</td>\n",
       "      <td>NaN</td>\n",
       "      <td>64.0</td>\n",
       "      <td>2020-05-07</td>\n",
       "      <td>2020-05-08</td>\n",
       "      <td>2020-05-07</td>\n",
       "      <td>37500</td>\n",
       "    </tr>\n",
       "    <tr>\n",
       "      <th>1</th>\n",
       "      <td>1</td>\n",
       "      <td>Лаборант</td>\n",
       "      <td>Алтайский край</td>\n",
       "      <td>Государственная служба, некоммерческие организ...</td>\n",
       "      <td>2200000100000</td>\n",
       "      <td>Барнаул</td>\n",
       "      <td>Высшее</td>\n",
       "      <td>[B]</td>\n",
       "      <td>Российская Федерация</td>\n",
       "      <td>Полный рабочий день</td>\n",
       "      <td>...</td>\n",
       "      <td>False</td>\n",
       "      <td>True</td>\n",
       "      <td>True</td>\n",
       "      <td>NaN</td>\n",
       "      <td>NaN</td>\n",
       "      <td>88.0</td>\n",
       "      <td>2020-10-21</td>\n",
       "      <td>2020-10-27</td>\n",
       "      <td>2020-10-27</td>\n",
       "      <td>14000</td>\n",
       "    </tr>\n",
       "    <tr>\n",
       "      <th>2</th>\n",
       "      <td>3</td>\n",
       "      <td>Специалист, администратор, бухгалтер, экономист</td>\n",
       "      <td>Ульяновская область</td>\n",
       "      <td>Административная работа, секретариат, АХО</td>\n",
       "      <td>7300000200000</td>\n",
       "      <td>Димитровград</td>\n",
       "      <td>Высшее</td>\n",
       "      <td>[B]</td>\n",
       "      <td>Российская Федерация</td>\n",
       "      <td>Полный рабочий день</td>\n",
       "      <td>...</td>\n",
       "      <td>False</td>\n",
       "      <td>NaN</td>\n",
       "      <td>True</td>\n",
       "      <td>NaN</td>\n",
       "      <td>NaN</td>\n",
       "      <td>78.0</td>\n",
       "      <td>2019-04-25</td>\n",
       "      <td>2020-02-04</td>\n",
       "      <td>2020-02-04</td>\n",
       "      <td>24600</td>\n",
       "    </tr>\n",
       "    <tr>\n",
       "      <th>3</th>\n",
       "      <td>4</td>\n",
       "      <td>Специалист</td>\n",
       "      <td>Свердловская область</td>\n",
       "      <td>Государственная служба, некоммерческие организ...</td>\n",
       "      <td>6600002300000</td>\n",
       "      <td>Нижний Тагил</td>\n",
       "      <td>Высшее</td>\n",
       "      <td>[B]</td>\n",
       "      <td>Российская Федерация</td>\n",
       "      <td>Полный рабочий день</td>\n",
       "      <td>...</td>\n",
       "      <td>False</td>\n",
       "      <td>False</td>\n",
       "      <td>False</td>\n",
       "      <td>NaN</td>\n",
       "      <td>NaN</td>\n",
       "      <td>91.0</td>\n",
       "      <td>2020-09-19</td>\n",
       "      <td>2020-09-20</td>\n",
       "      <td>2020-09-19</td>\n",
       "      <td>16075</td>\n",
       "    </tr>\n",
       "    <tr>\n",
       "      <th>4</th>\n",
       "      <td>5</td>\n",
       "      <td>Инструктор по плаванию</td>\n",
       "      <td>Иркутская область</td>\n",
       "      <td>Здравоохранение, спорт, красота, социальное об...</td>\n",
       "      <td>3800000400000</td>\n",
       "      <td>Ангарск</td>\n",
       "      <td>NaN</td>\n",
       "      <td>NaN</td>\n",
       "      <td>Российская Федерация</td>\n",
       "      <td>Полный рабочий день</td>\n",
       "      <td>...</td>\n",
       "      <td>False</td>\n",
       "      <td>NaN</td>\n",
       "      <td>NaN</td>\n",
       "      <td>NaN</td>\n",
       "      <td>NaN</td>\n",
       "      <td>58.0</td>\n",
       "      <td>2020-04-20</td>\n",
       "      <td>2020-09-09</td>\n",
       "      <td>2020-04-21</td>\n",
       "      <td>22080</td>\n",
       "    </tr>\n",
       "  </tbody>\n",
       "</table>\n",
       "<p>5 rows × 25 columns</p>\n",
       "</div>"
      ],
      "text/plain": [
       "   id                                         position                region  \\\n",
       "0   0                                       Специалист      Тульская область   \n",
       "1   1                                         Лаборант        Алтайский край   \n",
       "2   3  Специалист, администратор, бухгалтер, экономист   Ульяновская область   \n",
       "3   4                                       Специалист  Свердловская область   \n",
       "4   5                           Инструктор по плаванию     Иркутская область   \n",
       "\n",
       "                                            industry       locality  \\\n",
       "0  Государственная служба, некоммерческие организ...  7100000100000   \n",
       "1  Государственная служба, некоммерческие организ...  2200000100000   \n",
       "2          Административная работа, секретариат, АХО  7300000200000   \n",
       "3  Государственная служба, некоммерческие организ...  6600002300000   \n",
       "4  Здравоохранение, спорт, красота, социальное об...  3800000400000   \n",
       "\n",
       "  locality_name        education_type drive_licences           citizenship  \\\n",
       "0          Тула  Незаконченное высшее            [B]  Российская Федерация   \n",
       "1       Барнаул                Высшее            [B]  Российская Федерация   \n",
       "2  Димитровград                Высшее            [B]  Российская Федерация   \n",
       "3  Нижний Тагил                Высшее            [B]  Российская Федерация   \n",
       "4       Ангарск                   NaN            NaN  Российская Федерация   \n",
       "\n",
       "              schedule  ... relocation_ready  travel_ready retraining_ready  \\\n",
       "0  Полный рабочий день  ...            False         False             True   \n",
       "1  Полный рабочий день  ...            False          True             True   \n",
       "2  Полный рабочий день  ...            False           NaN             True   \n",
       "3  Полный рабочий день  ...            False         False            False   \n",
       "4  Полный рабочий день  ...            False           NaN              NaN   \n",
       "\n",
       "   is_worldskills_participant  has_qualifications completeness_rate  \\\n",
       "0                         NaN                 NaN              64.0   \n",
       "1                         NaN                 NaN              88.0   \n",
       "2                         NaN                 NaN              78.0   \n",
       "3                         NaN                 NaN              91.0   \n",
       "4                         NaN                 NaN              58.0   \n",
       "\n",
       "  creation_date modification_date publish_date salary  \n",
       "0    2020-05-07        2020-05-08   2020-05-07  37500  \n",
       "1    2020-10-21        2020-10-27   2020-10-27  14000  \n",
       "2    2019-04-25        2020-02-04   2020-02-04  24600  \n",
       "3    2020-09-19        2020-09-20   2020-09-19  16075  \n",
       "4    2020-04-20        2020-09-09   2020-04-21  22080  \n",
       "\n",
       "[5 rows x 25 columns]"
      ]
     },
     "execution_count": 878,
     "metadata": {},
     "output_type": "execute_result"
    }
   ],
   "source": [
    "df_tr.head()"
   ]
  },
  {
   "cell_type": "code",
   "execution_count": 799,
   "metadata": {},
   "outputs": [
    {
     "name": "stdout",
     "output_type": "stream",
     "text": [
      "<class 'pandas.core.frame.DataFrame'>\n",
      "RangeIndex: 306270 entries, 0 to 306269\n",
      "Data columns (total 25 columns):\n",
      " #   Column                      Non-Null Count   Dtype  \n",
      "---  ------                      --------------   -----  \n",
      " 0   id                          306270 non-null  int64  \n",
      " 1   position                    306270 non-null  object \n",
      " 2   region                      306258 non-null  object \n",
      " 3   industry                    306270 non-null  object \n",
      " 4   locality                    306270 non-null  int64  \n",
      " 5   locality_name               290778 non-null  object \n",
      " 6   education_type              266238 non-null  object \n",
      " 7   drive_licences              121925 non-null  object \n",
      " 8   citizenship                 306270 non-null  object \n",
      " 9   schedule                    306270 non-null  object \n",
      " 10  employement_type            306270 non-null  object \n",
      " 11  age                         298459 non-null  float64\n",
      " 12  gender                      298497 non-null  object \n",
      " 13  experience                  306270 non-null  int64  \n",
      " 14  salary_desired              306270 non-null  int64  \n",
      " 15  relocation_ready            233567 non-null  object \n",
      " 16  travel_ready                237054 non-null  object \n",
      " 17  retraining_ready            249144 non-null  object \n",
      " 18  is_worldskills_participant  194 non-null     object \n",
      " 19  has_qualifications          2534 non-null    object \n",
      " 20  completeness_rate           306270 non-null  float64\n",
      " 21  creation_date               306263 non-null  object \n",
      " 22  modification_date           306263 non-null  object \n",
      " 23  publish_date                306270 non-null  object \n",
      " 24  salary                      306270 non-null  int64  \n",
      "dtypes: float64(2), int64(5), object(18)\n",
      "memory usage: 58.4+ MB\n"
     ]
    }
   ],
   "source": [
    "df_tr.info()"
   ]
  },
  {
   "cell_type": "code",
   "execution_count": 37,
   "metadata": {},
   "outputs": [
    {
     "data": {
      "text/html": [
       "<div>\n",
       "<style scoped>\n",
       "    .dataframe tbody tr th:only-of-type {\n",
       "        vertical-align: middle;\n",
       "    }\n",
       "\n",
       "    .dataframe tbody tr th {\n",
       "        vertical-align: top;\n",
       "    }\n",
       "\n",
       "    .dataframe thead th {\n",
       "        text-align: right;\n",
       "    }\n",
       "</style>\n",
       "<table border=\"1\" class=\"dataframe\">\n",
       "  <thead>\n",
       "    <tr style=\"text-align: right;\">\n",
       "      <th></th>\n",
       "      <th>id</th>\n",
       "      <th>locality</th>\n",
       "      <th>age</th>\n",
       "      <th>experience</th>\n",
       "      <th>salary_desired</th>\n",
       "      <th>completeness_rate</th>\n",
       "      <th>salary</th>\n",
       "    </tr>\n",
       "  </thead>\n",
       "  <tbody>\n",
       "    <tr>\n",
       "      <th>count</th>\n",
       "      <td>306270.000000</td>\n",
       "      <td>3.062700e+05</td>\n",
       "      <td>298459.000000</td>\n",
       "      <td>306270.000000</td>\n",
       "      <td>3.062700e+05</td>\n",
       "      <td>306270.000000</td>\n",
       "      <td>3.062700e+05</td>\n",
       "    </tr>\n",
       "    <tr>\n",
       "      <th>mean</th>\n",
       "      <td>218700.540370</td>\n",
       "      <td>4.778910e+12</td>\n",
       "      <td>35.661344</td>\n",
       "      <td>5.748225</td>\n",
       "      <td>3.364235e+04</td>\n",
       "      <td>69.068528</td>\n",
       "      <td>4.094132e+04</td>\n",
       "    </tr>\n",
       "    <tr>\n",
       "      <th>std</th>\n",
       "      <td>126304.952581</td>\n",
       "      <td>2.352877e+12</td>\n",
       "      <td>12.616996</td>\n",
       "      <td>7.745237</td>\n",
       "      <td>2.272811e+04</td>\n",
       "      <td>17.125725</td>\n",
       "      <td>3.535889e+04</td>\n",
       "    </tr>\n",
       "    <tr>\n",
       "      <th>min</th>\n",
       "      <td>0.000000</td>\n",
       "      <td>0.000000e+00</td>\n",
       "      <td>2.000000</td>\n",
       "      <td>0.000000</td>\n",
       "      <td>-8.304000e+04</td>\n",
       "      <td>0.000000</td>\n",
       "      <td>0.000000e+00</td>\n",
       "    </tr>\n",
       "    <tr>\n",
       "      <th>25%</th>\n",
       "      <td>109335.250000</td>\n",
       "      <td>2.400002e+12</td>\n",
       "      <td>28.000000</td>\n",
       "      <td>0.000000</td>\n",
       "      <td>2.000000e+04</td>\n",
       "      <td>61.000000</td>\n",
       "      <td>2.162300e+04</td>\n",
       "    </tr>\n",
       "    <tr>\n",
       "      <th>50%</th>\n",
       "      <td>218685.500000</td>\n",
       "      <td>5.200000e+12</td>\n",
       "      <td>34.000000</td>\n",
       "      <td>3.000000</td>\n",
       "      <td>3.000000e+04</td>\n",
       "      <td>71.000000</td>\n",
       "      <td>3.091200e+04</td>\n",
       "    </tr>\n",
       "    <tr>\n",
       "      <th>75%</th>\n",
       "      <td>328055.750000</td>\n",
       "      <td>6.600002e+12</td>\n",
       "      <td>42.000000</td>\n",
       "      <td>9.000000</td>\n",
       "      <td>4.000000e+04</td>\n",
       "      <td>81.000000</td>\n",
       "      <td>4.750000e+04</td>\n",
       "    </tr>\n",
       "    <tr>\n",
       "      <th>max</th>\n",
       "      <td>437525.000000</td>\n",
       "      <td>9.900000e+12</td>\n",
       "      <td>1936.000000</td>\n",
       "      <td>937.000000</td>\n",
       "      <td>1.069556e+06</td>\n",
       "      <td>100.000000</td>\n",
       "      <td>2.283641e+06</td>\n",
       "    </tr>\n",
       "  </tbody>\n",
       "</table>\n",
       "</div>"
      ],
      "text/plain": [
       "                  id      locality            age     experience  \\\n",
       "count  306270.000000  3.062700e+05  298459.000000  306270.000000   \n",
       "mean   218700.540370  4.778910e+12      35.661344       5.748225   \n",
       "std    126304.952581  2.352877e+12      12.616996       7.745237   \n",
       "min         0.000000  0.000000e+00       2.000000       0.000000   \n",
       "25%    109335.250000  2.400002e+12      28.000000       0.000000   \n",
       "50%    218685.500000  5.200000e+12      34.000000       3.000000   \n",
       "75%    328055.750000  6.600002e+12      42.000000       9.000000   \n",
       "max    437525.000000  9.900000e+12    1936.000000     937.000000   \n",
       "\n",
       "       salary_desired  completeness_rate        salary  \n",
       "count    3.062700e+05      306270.000000  3.062700e+05  \n",
       "mean     3.364235e+04          69.068528  4.094132e+04  \n",
       "std      2.272811e+04          17.125725  3.535889e+04  \n",
       "min     -8.304000e+04           0.000000  0.000000e+00  \n",
       "25%      2.000000e+04          61.000000  2.162300e+04  \n",
       "50%      3.000000e+04          71.000000  3.091200e+04  \n",
       "75%      4.000000e+04          81.000000  4.750000e+04  \n",
       "max      1.069556e+06         100.000000  2.283641e+06  "
      ]
     },
     "execution_count": 37,
     "metadata": {},
     "output_type": "execute_result"
    }
   ],
   "source": [
    "df_tr.describe()"
   ]
  },
  {
   "cell_type": "code",
   "execution_count": 38,
   "metadata": {},
   "outputs": [
    {
     "data": {
      "text/plain": [
       "id                              int64\n",
       "position                       object\n",
       "region                         object\n",
       "industry                       object\n",
       "locality                        int64\n",
       "locality_name                  object\n",
       "education_type                 object\n",
       "drive_licences                 object\n",
       "citizenship                    object\n",
       "schedule                       object\n",
       "employement_type               object\n",
       "age                           float64\n",
       "gender                         object\n",
       "experience                      int64\n",
       "salary_desired                  int64\n",
       "relocation_ready               object\n",
       "travel_ready                   object\n",
       "retraining_ready               object\n",
       "is_worldskills_participant     object\n",
       "has_qualifications             object\n",
       "completeness_rate             float64\n",
       "creation_date                  object\n",
       "modification_date              object\n",
       "publish_date                   object\n",
       "salary                          int64\n",
       "dtype: object"
      ]
     },
     "execution_count": 38,
     "metadata": {},
     "output_type": "execute_result"
    }
   ],
   "source": [
    "df_tr.dtypes"
   ]
  },
  {
   "cell_type": "code",
   "execution_count": 975,
   "metadata": {},
   "outputs": [],
   "source": [
    "df_tr['creation_date'] = pd.to_datetime(df_tr['creation_date'])\n",
    "df_tr['modification_date'] = pd.to_datetime(df_tr['modification_date'])\n",
    "df_tr['publish_date'] = pd.to_datetime(df_tr['publish_date'])"
   ]
  },
  {
   "cell_type": "code",
   "execution_count": 976,
   "metadata": {},
   "outputs": [],
   "source": [
    "df_tr['relocation_ready'] = df_tr['relocation_ready'].astype('bool')\n",
    "df_tr['travel_ready'] = df_tr['travel_ready'].astype('bool')\n",
    "df_tr['has_qualifications'] = df_tr['has_qualifications'].astype('bool')\n",
    "df_tr['retraining_ready'] = df_tr['retraining_ready'].astype('bool')\n"
   ]
  },
  {
   "cell_type": "code",
   "execution_count": 257,
   "metadata": {},
   "outputs": [
    {
     "data": {
      "text/plain": [
       "id                                     int64\n",
       "position                              object\n",
       "region                                object\n",
       "industry                              object\n",
       "locality                               int64\n",
       "locality_name                         object\n",
       "education_type                        object\n",
       "drive_licences                        object\n",
       "citizenship                           object\n",
       "schedule                              object\n",
       "employement_type                      object\n",
       "age                                  float64\n",
       "gender                                object\n",
       "experience                             int64\n",
       "salary_desired                         int64\n",
       "relocation_ready                        bool\n",
       "travel_ready                            bool\n",
       "retraining_ready                        bool\n",
       "is_worldskills_participant            object\n",
       "has_qualifications                      bool\n",
       "completeness_rate                    float64\n",
       "creation_date                 datetime64[ns]\n",
       "modification_date             datetime64[ns]\n",
       "publish_date                  datetime64[ns]\n",
       "salary                                 int64\n",
       "dtype: object"
      ]
     },
     "execution_count": 257,
     "metadata": {},
     "output_type": "execute_result"
    }
   ],
   "source": [
    "df_tr.dtypes"
   ]
  },
  {
   "cell_type": "code",
   "execution_count": 258,
   "metadata": {},
   "outputs": [],
   "source": [
    "def value_counter(df,columns):\n",
    "    print('Колонка {}'.format(columns))\n",
    "    print(df[columns].value_counts().head())\n",
    "    print('Количество величин {}'.format(len(df[columns].value_counts())))\n",
    "    print('Количество NAN - {}'.format(df[columns].isna().sum()))\n",
    "    print('**********************')\n",
    "    print()\n",
    "def stats(df,columns):\n",
    "    print('Mean ',df[columns].mean())\n",
    "    #print('Moda ',df[columns].mode())\n",
    "    print('median ',df[columns].median())"
   ]
  },
  {
   "cell_type": "code",
   "execution_count": 802,
   "metadata": {},
   "outputs": [
    {
     "name": "stdout",
     "output_type": "stream",
     "text": [
      "Колонка id\n",
      "2047      1\n",
      "250927    1\n",
      "205873    1\n",
      "212018    1\n",
      "209971    1\n",
      "Name: id, dtype: int64\n",
      "Количество величин 306270\n",
      "Количество NAN - 0\n",
      "**********************\n",
      "\n",
      "Колонка position\n",
      "Специалист       10098\n",
      "Бухгалтер         7785\n",
      "Администратор     6694\n",
      "Менеджер          6555\n",
      "Продавец          5022\n",
      "Name: position, dtype: int64\n",
      "Количество величин 77762\n",
      "Количество NAN - 0\n",
      "**********************\n",
      "\n",
      "Колонка region\n",
      "Краснодарский край    20535\n",
      "Пермский край         16324\n",
      "г. Санкт-Петербург    14766\n",
      "Ростовская область    14624\n",
      "г. Москва             10873\n",
      "Name: region, dtype: int64\n",
      "Количество величин 86\n",
      "Количество NAN - 12\n",
      "**********************\n",
      "\n",
      "Колонка industry\n",
      "Административная работа, секретариат, АХО               32695\n",
      "Продажи, закупки, снабжение, торговля                   32195\n",
      "Государственная служба, некоммерческие организации      22300\n",
      "Транспорт, автобизнес, логистика, склад, ВЭД            19432\n",
      "Финансы, кредит, страхование, пенсионное обеспечение    18503\n",
      "Name: industry, dtype: int64\n",
      "Количество величин 33\n",
      "Количество NAN - 0\n",
      "**********************\n",
      "\n",
      "Колонка locality\n",
      "7800000000000    12848\n",
      "7700000000000    10103\n",
      "6100000100000     6323\n",
      "2300000100000     5785\n",
      "5400000100000     4478\n",
      "Name: locality, dtype: int64\n",
      "Количество величин 12365\n",
      "Количество NAN - 0\n",
      "**********************\n",
      "\n",
      "Колонка locality_name\n",
      "Санкт-Петербург    12848\n",
      "Москва             10103\n",
      "Ростов-на-Дону      6338\n",
      "Краснодар           5785\n",
      "Новосибирск         4480\n",
      "Name: locality_name, dtype: int64\n",
      "Количество величин 8684\n",
      "Количество NAN - 15492\n",
      "**********************\n",
      "\n",
      "Колонка education_type\n",
      "Высшее                      135436\n",
      "Среднее профессиональное     79375\n",
      "Среднее                      38991\n",
      "Незаконченное высшее         12436\n",
      "Name: education_type, dtype: int64\n",
      "Количество величин 4\n",
      "Количество NAN - 40032\n",
      "**********************\n",
      "\n",
      "Колонка drive_licences\n",
      "[B]          90304\n",
      "[B, C]       16871\n",
      "[A, B, C]     3634\n",
      "[A, B]        3315\n",
      "[B, C, D]     1661\n",
      "Name: drive_licences, dtype: int64\n",
      "Количество величин 29\n",
      "Количество NAN - 184345\n",
      "**********************\n",
      "\n",
      "Колонка citizenship\n",
      "Российская Федерация    305097\n",
      "Украина                    365\n",
      "Республика Казахстан       321\n",
      "Республика Беларусь        129\n",
      "Иное                        93\n",
      "Name: citizenship, dtype: int64\n",
      "Количество величин 12\n",
      "Количество NAN - 0\n",
      "**********************\n",
      "\n",
      "Колонка schedule\n",
      "Полный рабочий день                   235407\n",
      "Полный рабочий день,Сменный график     14036\n",
      "Сменный график                         11119\n",
      "Полный рабочий день,Вахтовый метод      5683\n",
      "Неполный рабочий день                   4261\n",
      "Name: schedule, dtype: int64\n",
      "Количество величин 63\n",
      "Количество NAN - 0\n",
      "**********************\n",
      "\n",
      "Колонка employement_type\n",
      "Полная занятость       287403\n",
      "Частичная занятость     12489\n",
      "Удаленная                3601\n",
      "Временная                1639\n",
      "Сезонная                  804\n",
      "Name: employement_type, dtype: int64\n",
      "Количество величин 6\n",
      "Количество NAN - 0\n",
      "**********************\n",
      "\n",
      "Колонка age\n",
      "32.0    12423\n",
      "33.0    12196\n",
      "31.0    11817\n",
      "34.0    11817\n",
      "30.0    11521\n",
      "Name: age, dtype: int64\n",
      "Количество величин 79\n",
      "Количество NAN - 7811\n",
      "**********************\n",
      "\n",
      "Колонка gender\n",
      "Женский    172334\n",
      "Мужской    126163\n",
      "Name: gender, dtype: int64\n",
      "Количество величин 2\n",
      "Количество NAN - 7773\n",
      "**********************\n",
      "\n",
      "Колонка experience\n",
      "0    93909\n",
      "1    34242\n",
      "2    21429\n",
      "3    17034\n",
      "4    14694\n",
      "Name: experience, dtype: int64\n",
      "Количество величин 73\n",
      "Количество NAN - 0\n",
      "**********************\n",
      "\n",
      "Колонка salary_desired\n",
      "30000    42370\n",
      "25000    37127\n",
      "20000    35936\n",
      "40000    21578\n",
      "50000    18267\n",
      "Name: salary_desired, dtype: int64\n",
      "Количество величин 2046\n",
      "Количество NAN - 0\n",
      "**********************\n",
      "\n",
      "Колонка relocation_ready\n",
      "False    190747\n",
      "True     115523\n",
      "Name: relocation_ready, dtype: int64\n",
      "Количество величин 2\n",
      "Количество NAN - 0\n",
      "**********************\n",
      "\n",
      "Колонка travel_ready\n",
      "True     189999\n",
      "False    116271\n",
      "Name: travel_ready, dtype: int64\n",
      "Количество величин 2\n",
      "Количество NAN - 0\n",
      "**********************\n",
      "\n",
      "Колонка retraining_ready\n",
      "True     279212\n",
      "False     27058\n",
      "Name: retraining_ready, dtype: int64\n",
      "Количество величин 2\n",
      "Количество NAN - 0\n",
      "**********************\n",
      "\n",
      "Колонка is_worldskills_participant\n",
      "Участник движения                         176\n",
      "Участник движения, Данные подтверждены     18\n",
      "Name: is_worldskills_participant, dtype: int64\n",
      "Количество величин 2\n",
      "Количество NAN - 306076\n",
      "**********************\n",
      "\n",
      "Колонка has_qualifications\n",
      "True    306270\n",
      "Name: has_qualifications, dtype: int64\n",
      "Количество величин 1\n",
      "Количество NAN - 0\n",
      "**********************\n",
      "\n",
      "Колонка completeness_rate\n",
      "61.0    12094\n",
      "79.0     9697\n",
      "63.0     9399\n",
      "64.0     9399\n",
      "58.0     9037\n",
      "Name: completeness_rate, dtype: int64\n",
      "Количество величин 57\n",
      "Количество NAN - 0\n",
      "**********************\n",
      "\n",
      "Колонка creation_date\n",
      "2020-04-15    5932\n",
      "2020-04-14    5550\n",
      "2020-04-16    5088\n",
      "2020-04-10    5075\n",
      "2020-04-17    4461\n",
      "Name: creation_date, dtype: int64\n",
      "Количество величин 1504\n",
      "Количество NAN - 7\n",
      "**********************\n",
      "\n",
      "Колонка modification_date\n",
      "2019-05-16    8058\n",
      "2019-05-17    7515\n",
      "2020-12-01    5055\n",
      "2020-10-01    5000\n",
      "2020-09-01    3380\n",
      "Name: modification_date, dtype: int64\n",
      "Количество величин 579\n",
      "Количество NAN - 7\n",
      "**********************\n",
      "\n",
      "Колонка publish_date\n",
      "2020-10-01    5213\n",
      "2020-12-01    4983\n",
      "2020-08-01    4442\n",
      "2020-04-20    3968\n",
      "2020-04-16    3824\n",
      "Name: publish_date, dtype: int64\n",
      "Количество величин 1893\n",
      "Количество NAN - 0\n",
      "**********************\n",
      "\n",
      "Колонка salary\n",
      "30000    7586\n",
      "33120    7557\n",
      "25000    6966\n",
      "27600    6313\n",
      "20000    6102\n",
      "Name: salary, dtype: int64\n",
      "Количество величин 19203\n",
      "Количество NAN - 0\n",
      "**********************\n",
      "\n"
     ]
    }
   ],
   "source": [
    "for elem in df_tr.columns:\n",
    "    value_counter(df_tr,elem)"
   ]
  },
  {
   "cell_type": "code",
   "execution_count": 937,
   "metadata": {},
   "outputs": [
    {
     "data": {
      "text/html": [
       "<div>\n",
       "<style scoped>\n",
       "    .dataframe tbody tr th:only-of-type {\n",
       "        vertical-align: middle;\n",
       "    }\n",
       "\n",
       "    .dataframe tbody tr th {\n",
       "        vertical-align: top;\n",
       "    }\n",
       "\n",
       "    .dataframe thead th {\n",
       "        text-align: right;\n",
       "    }\n",
       "</style>\n",
       "<table border=\"1\" class=\"dataframe\">\n",
       "  <thead>\n",
       "    <tr style=\"text-align: right;\">\n",
       "      <th></th>\n",
       "      <th>id</th>\n",
       "      <th>locality</th>\n",
       "      <th>age</th>\n",
       "      <th>experience</th>\n",
       "      <th>salary_desired</th>\n",
       "      <th>completeness_rate</th>\n",
       "      <th>salary</th>\n",
       "    </tr>\n",
       "  </thead>\n",
       "  <tbody>\n",
       "    <tr>\n",
       "      <th>count</th>\n",
       "      <td>306270.000000</td>\n",
       "      <td>3.062700e+05</td>\n",
       "      <td>298459.000000</td>\n",
       "      <td>306270.000000</td>\n",
       "      <td>3.062700e+05</td>\n",
       "      <td>306270.000000</td>\n",
       "      <td>3.062700e+05</td>\n",
       "    </tr>\n",
       "    <tr>\n",
       "      <th>mean</th>\n",
       "      <td>218700.540370</td>\n",
       "      <td>4.778910e+12</td>\n",
       "      <td>35.661344</td>\n",
       "      <td>5.748225</td>\n",
       "      <td>3.364235e+04</td>\n",
       "      <td>69.068528</td>\n",
       "      <td>4.094132e+04</td>\n",
       "    </tr>\n",
       "    <tr>\n",
       "      <th>std</th>\n",
       "      <td>126304.952581</td>\n",
       "      <td>2.352877e+12</td>\n",
       "      <td>12.616996</td>\n",
       "      <td>7.745237</td>\n",
       "      <td>2.272811e+04</td>\n",
       "      <td>17.125725</td>\n",
       "      <td>3.535889e+04</td>\n",
       "    </tr>\n",
       "    <tr>\n",
       "      <th>min</th>\n",
       "      <td>0.000000</td>\n",
       "      <td>0.000000e+00</td>\n",
       "      <td>2.000000</td>\n",
       "      <td>0.000000</td>\n",
       "      <td>-8.304000e+04</td>\n",
       "      <td>0.000000</td>\n",
       "      <td>0.000000e+00</td>\n",
       "    </tr>\n",
       "    <tr>\n",
       "      <th>25%</th>\n",
       "      <td>109335.250000</td>\n",
       "      <td>2.400002e+12</td>\n",
       "      <td>28.000000</td>\n",
       "      <td>0.000000</td>\n",
       "      <td>2.000000e+04</td>\n",
       "      <td>61.000000</td>\n",
       "      <td>2.162300e+04</td>\n",
       "    </tr>\n",
       "    <tr>\n",
       "      <th>50%</th>\n",
       "      <td>218685.500000</td>\n",
       "      <td>5.200000e+12</td>\n",
       "      <td>34.000000</td>\n",
       "      <td>3.000000</td>\n",
       "      <td>3.000000e+04</td>\n",
       "      <td>71.000000</td>\n",
       "      <td>3.091200e+04</td>\n",
       "    </tr>\n",
       "    <tr>\n",
       "      <th>75%</th>\n",
       "      <td>328055.750000</td>\n",
       "      <td>6.600002e+12</td>\n",
       "      <td>42.000000</td>\n",
       "      <td>9.000000</td>\n",
       "      <td>4.000000e+04</td>\n",
       "      <td>81.000000</td>\n",
       "      <td>4.750000e+04</td>\n",
       "    </tr>\n",
       "    <tr>\n",
       "      <th>max</th>\n",
       "      <td>437525.000000</td>\n",
       "      <td>9.900000e+12</td>\n",
       "      <td>1936.000000</td>\n",
       "      <td>937.000000</td>\n",
       "      <td>1.069556e+06</td>\n",
       "      <td>100.000000</td>\n",
       "      <td>2.283641e+06</td>\n",
       "    </tr>\n",
       "  </tbody>\n",
       "</table>\n",
       "</div>"
      ],
      "text/plain": [
       "                  id      locality            age     experience  \\\n",
       "count  306270.000000  3.062700e+05  298459.000000  306270.000000   \n",
       "mean   218700.540370  4.778910e+12      35.661344       5.748225   \n",
       "std    126304.952581  2.352877e+12      12.616996       7.745237   \n",
       "min         0.000000  0.000000e+00       2.000000       0.000000   \n",
       "25%    109335.250000  2.400002e+12      28.000000       0.000000   \n",
       "50%    218685.500000  5.200000e+12      34.000000       3.000000   \n",
       "75%    328055.750000  6.600002e+12      42.000000       9.000000   \n",
       "max    437525.000000  9.900000e+12    1936.000000     937.000000   \n",
       "\n",
       "       salary_desired  completeness_rate        salary  \n",
       "count    3.062700e+05      306270.000000  3.062700e+05  \n",
       "mean     3.364235e+04          69.068528  4.094132e+04  \n",
       "std      2.272811e+04          17.125725  3.535889e+04  \n",
       "min     -8.304000e+04           0.000000  0.000000e+00  \n",
       "25%      2.000000e+04          61.000000  2.162300e+04  \n",
       "50%      3.000000e+04          71.000000  3.091200e+04  \n",
       "75%      4.000000e+04          81.000000  4.750000e+04  \n",
       "max      1.069556e+06         100.000000  2.283641e+06  "
      ]
     },
     "execution_count": 937,
     "metadata": {},
     "output_type": "execute_result"
    }
   ],
   "source": [
    "df_tr.describe()"
   ]
  },
  {
   "cell_type": "code",
   "execution_count": 938,
   "metadata": {},
   "outputs": [],
   "source": [
    "df_tr_digit = df_tr[['age','experience','salary_desired','completeness_rate','salary']]"
   ]
  },
  {
   "cell_type": "code",
   "execution_count": 939,
   "metadata": {},
   "outputs": [
    {
     "data": {
      "text/plain": [
       "<seaborn.axisgrid.PairGrid at 0x393a414d0>"
      ]
     },
     "execution_count": 939,
     "metadata": {},
     "output_type": "execute_result"
    },
    {
     "data": {
      "image/png": "[encoded data removed]",
      "text/plain": [
       "<Figure size 900x900 with 30 Axes>"
      ]
     },
     "metadata": {
      "needs_background": "light"
     },
     "output_type": "display_data"
    }
   ],
   "source": [
    "sns.pairplot(df_tr_digit)"
   ]
  },
  {
   "cell_type": "code",
   "execution_count": 977,
   "metadata": {},
   "outputs": [
    {
     "data": {
      "text/plain": [
       "3.0       1\n",
       "1926.0    1\n",
       "1924.0    1\n",
       "2.0       1\n",
       "7.0       1\n",
       "Name: age, dtype: int64"
      ]
     },
     "execution_count": 977,
     "metadata": {},
     "output_type": "execute_result"
    }
   ],
   "source": [
    "df_tr.age.value_counts().tail()"
   ]
  },
  {
   "cell_type": "code",
   "execution_count": 978,
   "metadata": {},
   "outputs": [
    {
     "name": "stdout",
     "output_type": "stream",
     "text": [
      "We have 28 wrong ages\n"
     ]
    }
   ],
   "source": [
    "wrong_age = []\n",
    "for elem in df_tr.age:\n",
    "    if (elem > 82) | (elem < 14):\n",
    "        wrong_age.append(elem)\n",
    "print('We have {} wrong ages'.format(len(wrong_age)))\n",
    "wrong_age = list(set(wrong_age))"
   ]
  },
  {
   "cell_type": "code",
   "execution_count": 979,
   "metadata": {},
   "outputs": [],
   "source": [
    "df_tr.age = np.where((df_tr.age>82)| (elem < 14) ,35,df_tr.age)\n",
    "# df_tr.age = np.where((df_tr.age==5),50,df_tr.age)\n",
    "# df_tr.age = np.where((df_tr.age==119),19,df_tr.age)\n",
    "# df_tr.age = np.where((df_tr.age==1936),36,df_tr.age)\n",
    "# df_tr.age = np.where((df_tr.age==1926),26,df_tr.age)\n",
    "# df_tr.age = np.where((df_tr.age==3),30,df_tr.age)\n",
    "# df_tr.age = np.where((df_tr.age==8),18,df_tr.age)\n",
    "# df_tr.age = np.where((df_tr.age==1924),24,df_tr.age)\n",
    "# df_tr.age = np.where((df_tr.age==132),32,df_tr.age)\n",
    "# df_tr.age = np.where((df_tr.age==1933),33,df_tr.age)\n",
    "# df_tr.age = np.where((df_tr.age==2),20,df_tr.age)\n",
    "# df_tr.age = np.where((df_tr.age==7),17,df_tr.age)\n",
    "# df_tr.age = np.where((df_tr.age==1928),28,df_tr.age)"
   ]
  },
  {
   "cell_type": "code",
   "execution_count": 980,
   "metadata": {},
   "outputs": [
    {
     "data": {
      "text/plain": [
       "2.0     1\n",
       "3.0     1\n",
       "82.0    1\n",
       "8.0     1\n",
       "7.0     1\n",
       "Name: age, dtype: int64"
      ]
     },
     "execution_count": 980,
     "metadata": {},
     "output_type": "execute_result"
    }
   ],
   "source": [
    "#df_tr = df_tr[~df_tr.age.isin(wrong_age)]\n",
    "df_tr.age.value_counts().tail(5)"
   ]
  },
  {
   "cell_type": "code",
   "execution_count": 962,
   "metadata": {},
   "outputs": [
    {
     "name": "stdout",
     "output_type": "stream",
     "text": [
      "Mean  35.628719522614496\n",
      "median  34.0\n"
     ]
    }
   ],
   "source": [
    "stats(df_tr,'age')"
   ]
  },
  {
   "cell_type": "code",
   "execution_count": 981,
   "metadata": {},
   "outputs": [
    {
     "data": {
      "text/plain": [
       "0"
      ]
     },
     "execution_count": 981,
     "metadata": {},
     "output_type": "execute_result"
    }
   ],
   "source": [
    "df_tr.age = df_tr.age.fillna(35)\n",
    "df_tr.age.isna().sum()"
   ]
  },
  {
   "cell_type": "code",
   "execution_count": 982,
   "metadata": {},
   "outputs": [
    {
     "data": {
      "text/plain": [
       "13"
      ]
     },
     "execution_count": 982,
     "metadata": {},
     "output_type": "execute_result"
    }
   ],
   "source": [
    "len(df_tr[df_tr.experience > 69])"
   ]
  },
  {
   "cell_type": "code",
   "execution_count": 983,
   "metadata": {},
   "outputs": [
    {
     "name": "stdout",
     "output_type": "stream",
     "text": [
      "We have 13 wrong exp\n"
     ]
    }
   ],
   "source": [
    "wrong_exp = []\n",
    "for elem in df_tr.experience:\n",
    "    if (elem > 69):\n",
    "        wrong_exp.append(elem)\n",
    "print('We have {} wrong exp'.format(len(wrong_exp)))\n",
    "wrong_exp = list(set(wrong_exp))"
   ]
  },
  {
   "cell_type": "code",
   "execution_count": 984,
   "metadata": {},
   "outputs": [
    {
     "data": {
      "text/plain": [
       "64    1\n",
       "65    1\n",
       "59    1\n",
       "56    1\n",
       "66    1\n",
       "Name: experience, dtype: int64"
      ]
     },
     "execution_count": 984,
     "metadata": {},
     "output_type": "execute_result"
    }
   ],
   "source": [
    "#df_tr = df_tr[~df_tr.experience.isin(wrong_exp)]\n",
    "df_tr.experience = np.where((df_tr.experience>69),0,df_tr.experience)\n",
    "\n",
    "df_tr.experience.value_counts().tail()"
   ]
  },
  {
   "cell_type": "code",
   "execution_count": 985,
   "metadata": {},
   "outputs": [
    {
     "name": "stdout",
     "output_type": "stream",
     "text": [
      "Mean  33642.353557318704\n",
      "median  30000.0\n",
      "None\n",
      "Mean  40941.32367845365\n",
      "median  30912.0\n",
      "None\n"
     ]
    }
   ],
   "source": [
    "print(stats(df_tr,'salary_desired'))\n",
    "print(stats(df_tr,'salary'))"
   ]
  },
  {
   "cell_type": "code",
   "execution_count": 988,
   "metadata": {},
   "outputs": [],
   "source": [
    "#df_tr.info()"
   ]
  },
  {
   "cell_type": "code",
   "execution_count": 986,
   "metadata": {},
   "outputs": [],
   "source": [
    "df_tr = df_tr[df_tr.salary > 0]"
   ]
  },
  {
   "cell_type": "code",
   "execution_count": null,
   "metadata": {},
   "outputs": [],
   "source": []
  },
  {
   "cell_type": "code",
   "execution_count": 953,
   "metadata": {},
   "outputs": [],
   "source": [
    "df_tr.salary_desired = np.where((df_tr.salary_desired<1000),30000,df_tr.salary_desired)\n",
    "df_tr.salary = np.where((df_tr.salary<1000),31000,df_tr.salary)#!!!!латер!!\n",
    "df_tr.salary = np.where((df_tr.salary>1000000),31000,df_tr.salary)#!!!later"
   ]
  },
  {
   "cell_type": "code",
   "execution_count": 989,
   "metadata": {},
   "outputs": [
    {
     "data": {
      "text/html": [
       "<div>\n",
       "<style scoped>\n",
       "    .dataframe tbody tr th:only-of-type {\n",
       "        vertical-align: middle;\n",
       "    }\n",
       "\n",
       "    .dataframe tbody tr th {\n",
       "        vertical-align: top;\n",
       "    }\n",
       "\n",
       "    .dataframe thead th {\n",
       "        text-align: right;\n",
       "    }\n",
       "</style>\n",
       "<table border=\"1\" class=\"dataframe\">\n",
       "  <thead>\n",
       "    <tr style=\"text-align: right;\">\n",
       "      <th></th>\n",
       "      <th>id</th>\n",
       "      <th>locality</th>\n",
       "      <th>age</th>\n",
       "      <th>experience</th>\n",
       "      <th>salary_desired</th>\n",
       "      <th>completeness_rate</th>\n",
       "      <th>salary</th>\n",
       "    </tr>\n",
       "  </thead>\n",
       "  <tbody>\n",
       "    <tr>\n",
       "      <th>count</th>\n",
       "      <td>303852.000000</td>\n",
       "      <td>3.038520e+05</td>\n",
       "      <td>303852.000000</td>\n",
       "      <td>303852.000000</td>\n",
       "      <td>3.038520e+05</td>\n",
       "      <td>303852.000000</td>\n",
       "      <td>3.038520e+05</td>\n",
       "    </tr>\n",
       "    <tr>\n",
       "      <th>mean</th>\n",
       "      <td>218683.809404</td>\n",
       "      <td>4.779352e+12</td>\n",
       "      <td>35.611225</td>\n",
       "      <td>5.739794</td>\n",
       "      <td>3.363126e+04</td>\n",
       "      <td>69.078331</td>\n",
       "      <td>4.126713e+04</td>\n",
       "    </tr>\n",
       "    <tr>\n",
       "      <th>std</th>\n",
       "      <td>126304.012138</td>\n",
       "      <td>2.351677e+12</td>\n",
       "      <td>9.821518</td>\n",
       "      <td>7.358616</td>\n",
       "      <td>2.268407e+04</td>\n",
       "      <td>17.103623</td>\n",
       "      <td>3.530943e+04</td>\n",
       "    </tr>\n",
       "    <tr>\n",
       "      <th>min</th>\n",
       "      <td>0.000000</td>\n",
       "      <td>0.000000e+00</td>\n",
       "      <td>2.000000</td>\n",
       "      <td>0.000000</td>\n",
       "      <td>-8.304000e+04</td>\n",
       "      <td>0.000000</td>\n",
       "      <td>2.000000e+00</td>\n",
       "    </tr>\n",
       "    <tr>\n",
       "      <th>25%</th>\n",
       "      <td>109333.750000</td>\n",
       "      <td>2.400002e+12</td>\n",
       "      <td>28.000000</td>\n",
       "      <td>0.000000</td>\n",
       "      <td>2.000000e+04</td>\n",
       "      <td>61.000000</td>\n",
       "      <td>2.200000e+04</td>\n",
       "    </tr>\n",
       "    <tr>\n",
       "      <th>50%</th>\n",
       "      <td>218668.500000</td>\n",
       "      <td>5.200000e+12</td>\n",
       "      <td>34.000000</td>\n",
       "      <td>3.000000</td>\n",
       "      <td>3.000000e+04</td>\n",
       "      <td>71.000000</td>\n",
       "      <td>3.105000e+04</td>\n",
       "    </tr>\n",
       "    <tr>\n",
       "      <th>75%</th>\n",
       "      <td>328015.250000</td>\n",
       "      <td>6.600002e+12</td>\n",
       "      <td>42.000000</td>\n",
       "      <td>9.000000</td>\n",
       "      <td>4.000000e+04</td>\n",
       "      <td>81.000000</td>\n",
       "      <td>4.800000e+04</td>\n",
       "    </tr>\n",
       "    <tr>\n",
       "      <th>max</th>\n",
       "      <td>437525.000000</td>\n",
       "      <td>9.900000e+12</td>\n",
       "      <td>82.000000</td>\n",
       "      <td>66.000000</td>\n",
       "      <td>1.069556e+06</td>\n",
       "      <td>100.000000</td>\n",
       "      <td>2.283641e+06</td>\n",
       "    </tr>\n",
       "  </tbody>\n",
       "</table>\n",
       "</div>"
      ],
      "text/plain": [
       "                  id      locality            age     experience  \\\n",
       "count  303852.000000  3.038520e+05  303852.000000  303852.000000   \n",
       "mean   218683.809404  4.779352e+12      35.611225       5.739794   \n",
       "std    126304.012138  2.351677e+12       9.821518       7.358616   \n",
       "min         0.000000  0.000000e+00       2.000000       0.000000   \n",
       "25%    109333.750000  2.400002e+12      28.000000       0.000000   \n",
       "50%    218668.500000  5.200000e+12      34.000000       3.000000   \n",
       "75%    328015.250000  6.600002e+12      42.000000       9.000000   \n",
       "max    437525.000000  9.900000e+12      82.000000      66.000000   \n",
       "\n",
       "       salary_desired  completeness_rate        salary  \n",
       "count    3.038520e+05      303852.000000  3.038520e+05  \n",
       "mean     3.363126e+04          69.078331  4.126713e+04  \n",
       "std      2.268407e+04          17.103623  3.530943e+04  \n",
       "min     -8.304000e+04           0.000000  2.000000e+00  \n",
       "25%      2.000000e+04          61.000000  2.200000e+04  \n",
       "50%      3.000000e+04          71.000000  3.105000e+04  \n",
       "75%      4.000000e+04          81.000000  4.800000e+04  \n",
       "max      1.069556e+06         100.000000  2.283641e+06  "
      ]
     },
     "execution_count": 989,
     "metadata": {},
     "output_type": "execute_result"
    }
   ],
   "source": [
    "df_tr.describe()"
   ]
  },
  {
   "cell_type": "code",
   "execution_count": 1016,
   "metadata": {},
   "outputs": [
    {
     "data": {
      "text/plain": [
       "<seaborn.axisgrid.PairGrid at 0x197b385d0>"
      ]
     },
     "execution_count": 1016,
     "metadata": {},
     "output_type": "execute_result"
    },
    {
     "data": {
      "image/png": "[encoded data removed]",
      "text/plain": [
       "<Figure size 900x900 with 30 Axes>"
      ]
     },
     "metadata": {
      "needs_background": "light"
     },
     "output_type": "display_data"
    }
   ],
   "source": [
    "sns.pairplot(df_tr_digit)"
   ]
  },
  {
   "cell_type": "code",
   "execution_count": 990,
   "metadata": {},
   "outputs": [
    {
     "data": {
      "text/plain": [
       "73"
      ]
     },
     "execution_count": 990,
     "metadata": {},
     "output_type": "execute_result"
    }
   ],
   "source": [
    "#df_tr_text[df_tr_text.position.str.contains('водитель')].position.value_counts().head(50) # - слова по вхождению.\n",
    "df_tr[df_tr.position.str.len() > 200].position.value_counts().count()  # - большая длинна"
   ]
  },
  {
   "cell_type": "code",
   "execution_count": 991,
   "metadata": {},
   "outputs": [
    {
     "data": {
      "text/plain": [
       "0"
      ]
     },
     "execution_count": 991,
     "metadata": {},
     "output_type": "execute_result"
    }
   ],
   "source": [
    "#cпециалист\n",
    "#df_tr = df_tr[df_tr.position.str.len() < 200] \n",
    "df_tr.position = np.where((df_tr.position.str.len()>200),'специалист',df_tr.position)\n",
    "df_tr[df_tr.position.str.len() > 200].position.value_counts().count()"
   ]
  },
  {
   "cell_type": "code",
   "execution_count": 992,
   "metadata": {},
   "outputs": [],
   "source": [
    "df_tr.region = df_tr.region.fillna(df_tr.region.value_counts().index[0])\n",
    "df_tr.creation_date = df_tr.creation_date.fillna(df_tr.creation_date.value_counts().index[0])\n",
    "df_tr.modification_date = df_tr.modification_date.fillna(df_tr.modification_date.value_counts().index[0])"
   ]
  },
  {
   "cell_type": "code",
   "execution_count": 993,
   "metadata": {},
   "outputs": [],
   "source": [
    "df_tr.locality_name = np.where((df_tr.region=='Республика Башкортостан'),'уфа',df_tr.locality_name)\n",
    "df_tr.locality_name = np.where((df_tr.region=='Республика Дагестан'),'махачкала',df_tr.locality_name)\n",
    "df_tr.locality_name = np.where((df_tr.region=='Республика Бурятия'),'улан-удэ',df_tr.locality_name)\n",
    "df_tr.locality_name = np.where((df_tr.region=='Республика Адыгея'),'майкоп',df_tr.locality_name)\n",
    "df_tr.locality_name = np.where((df_tr.region=='Республика Алтай'),'горно-алтайск',df_tr.locality_name)\n",
    "df_tr.locality_name = np.where((df_tr.region=='Республика Карачаево-Черкесия'),'черкесск',df_tr.locality_name)\n",
    "df_tr.locality_name = np.where((df_tr.region=='Республика Кабардино-Балкария'),'нальчик',df_tr.locality_name)\n",
    "df_tr.locality_name = np.where((df_tr.region=='Республика Калмыкия'),'элиста',df_tr.locality_name)"
   ]
  },
  {
   "cell_type": "code",
   "execution_count": null,
   "metadata": {},
   "outputs": [],
   "source": [
    "missed_local_city = ['уфа','махачкала','улан-удэ','майкоп','горно-алтайск','черкесск','нальчик','элиста']"
   ]
  },
  {
   "cell_type": "code",
   "execution_count": 994,
   "metadata": {},
   "outputs": [],
   "source": [
    "df_tr.locality_name = df_tr.locality_name.fillna(df_tr.locality_name.value_counts().index[0])"
   ]
  },
  {
   "cell_type": "code",
   "execution_count": 995,
   "metadata": {},
   "outputs": [],
   "source": [
    "df_tr.education_type = df_tr.education_type.ffill(axis = 0)\n",
    "df_tr.gender = df_tr.gender.ffill(axis = 0)"
   ]
  },
  {
   "cell_type": "code",
   "execution_count": 996,
   "metadata": {},
   "outputs": [
    {
     "name": "stdout",
     "output_type": "stream",
     "text": [
      "<class 'pandas.core.frame.DataFrame'>\n",
      "Int64Index: 303852 entries, 0 to 306269\n",
      "Data columns (total 25 columns):\n",
      " #   Column                      Non-Null Count   Dtype         \n",
      "---  ------                      --------------   -----         \n",
      " 0   id                          303852 non-null  int64         \n",
      " 1   position                    303852 non-null  object        \n",
      " 2   region                      303852 non-null  object        \n",
      " 3   industry                    303852 non-null  object        \n",
      " 4   locality                    303852 non-null  int64         \n",
      " 5   locality_name               303852 non-null  object        \n",
      " 6   education_type              303852 non-null  object        \n",
      " 7   drive_licences              121013 non-null  object        \n",
      " 8   citizenship                 303852 non-null  object        \n",
      " 9   schedule                    303852 non-null  object        \n",
      " 10  employement_type            303852 non-null  object        \n",
      " 11  age                         303852 non-null  float64       \n",
      " 12  gender                      303852 non-null  object        \n",
      " 13  experience                  303852 non-null  int64         \n",
      " 14  salary_desired              303852 non-null  int64         \n",
      " 15  relocation_ready            303852 non-null  bool          \n",
      " 16  travel_ready                303852 non-null  bool          \n",
      " 17  retraining_ready            303852 non-null  bool          \n",
      " 18  is_worldskills_participant  194 non-null     object        \n",
      " 19  has_qualifications          303852 non-null  bool          \n",
      " 20  completeness_rate           303852 non-null  float64       \n",
      " 21  creation_date               303852 non-null  datetime64[ns]\n",
      " 22  modification_date           303852 non-null  datetime64[ns]\n",
      " 23  publish_date                303852 non-null  datetime64[ns]\n",
      " 24  salary                      303852 non-null  int64         \n",
      "dtypes: bool(4), datetime64[ns](3), float64(2), int64(5), object(11)\n",
      "memory usage: 52.2+ MB\n"
     ]
    }
   ],
   "source": [
    "df_tr.info()"
   ]
  },
  {
   "cell_type": "code",
   "execution_count": 1004,
   "metadata": {},
   "outputs": [],
   "source": [
    "df_tr.to_pickle('clean_train_1912')"
   ]
  },
  {
   "cell_type": "code",
   "execution_count": null,
   "metadata": {},
   "outputs": [],
   "source": []
  },
  {
   "cell_type": "code",
   "execution_count": null,
   "metadata": {},
   "outputs": [],
   "source": []
  },
  {
   "cell_type": "code",
   "execution_count": null,
   "metadata": {},
   "outputs": [],
   "source": []
  },
  {
   "cell_type": "code",
   "execution_count": null,
   "metadata": {},
   "outputs": [],
   "source": []
  },
  {
   "cell_type": "code",
   "execution_count": null,
   "metadata": {},
   "outputs": [],
   "source": []
  },
  {
   "cell_type": "code",
   "execution_count": 997,
   "metadata": {},
   "outputs": [],
   "source": [
    "custom_feature_cols = ['position_industry','position_industry_region',\n",
    "                       'position_industry_region_locality','region_locality_name',\n",
    "                      'schedule_employement_type'] "
   ]
  },
  {
   "cell_type": "code",
   "execution_count": 998,
   "metadata": {},
   "outputs": [],
   "source": [
    "c1 = df_tr.position +','+' '+ df_tr.industry\n",
    "c2 = df_tr.position +','+' '+ df_tr.industry +','+' '+ df_tr.region\n",
    "c3 = df_tr.position +','+' '+ df_tr.industry +','+' '+ df_tr.region +','+' '+ df_tr.locality_name\n",
    "c4 = df_tr.region +','+' '+ df_tr.locality_name\n",
    "c5 = df_tr.schedule +','+' '+ df_tr.employement_type"
   ]
  },
  {
   "cell_type": "code",
   "execution_count": 1000,
   "metadata": {},
   "outputs": [],
   "source": [
    "df_custom_features = pd.DataFrame(columns=custom_feature_cols)\n"
   ]
  },
  {
   "cell_type": "code",
   "execution_count": 1001,
   "metadata": {},
   "outputs": [
    {
     "data": {
      "text/html": [
       "<div>\n",
       "<style scoped>\n",
       "    .dataframe tbody tr th:only-of-type {\n",
       "        vertical-align: middle;\n",
       "    }\n",
       "\n",
       "    .dataframe tbody tr th {\n",
       "        vertical-align: top;\n",
       "    }\n",
       "\n",
       "    .dataframe thead th {\n",
       "        text-align: right;\n",
       "    }\n",
       "</style>\n",
       "<table border=\"1\" class=\"dataframe\">\n",
       "  <thead>\n",
       "    <tr style=\"text-align: right;\">\n",
       "      <th></th>\n",
       "      <th>position_industry</th>\n",
       "      <th>position_industry_region</th>\n",
       "      <th>position_industry_region_locality</th>\n",
       "      <th>region_locality_name</th>\n",
       "      <th>schedule_employement_type</th>\n",
       "    </tr>\n",
       "  </thead>\n",
       "  <tbody>\n",
       "  </tbody>\n",
       "</table>\n",
       "</div>"
      ],
      "text/plain": [
       "Empty DataFrame\n",
       "Columns: [position_industry, position_industry_region, position_industry_region_locality, region_locality_name, schedule_employement_type]\n",
       "Index: []"
      ]
     },
     "execution_count": 1001,
     "metadata": {},
     "output_type": "execute_result"
    }
   ],
   "source": [
    "df_custom_features.head()"
   ]
  },
  {
   "cell_type": "code",
   "execution_count": 1002,
   "metadata": {},
   "outputs": [],
   "source": [
    "df_custom_features.position_industry = c1\n",
    "df_custom_features.position_industry_region = c2\n",
    "df_custom_features.position_industry_region_locality = c3\n",
    "df_custom_features.region_locality_name = c4\n",
    "df_custom_features.schedule_employement_type = c5"
   ]
  },
  {
   "cell_type": "code",
   "execution_count": 1003,
   "metadata": {},
   "outputs": [
    {
     "data": {
      "text/html": [
       "<div>\n",
       "<style scoped>\n",
       "    .dataframe tbody tr th:only-of-type {\n",
       "        vertical-align: middle;\n",
       "    }\n",
       "\n",
       "    .dataframe tbody tr th {\n",
       "        vertical-align: top;\n",
       "    }\n",
       "\n",
       "    .dataframe thead th {\n",
       "        text-align: right;\n",
       "    }\n",
       "</style>\n",
       "<table border=\"1\" class=\"dataframe\">\n",
       "  <thead>\n",
       "    <tr style=\"text-align: right;\">\n",
       "      <th></th>\n",
       "      <th>position_industry</th>\n",
       "      <th>position_industry_region</th>\n",
       "      <th>position_industry_region_locality</th>\n",
       "      <th>region_locality_name</th>\n",
       "      <th>schedule_employement_type</th>\n",
       "    </tr>\n",
       "  </thead>\n",
       "  <tbody>\n",
       "    <tr>\n",
       "      <th>0</th>\n",
       "      <td>Специалист, Государственная служба, некоммерче...</td>\n",
       "      <td>Специалист, Государственная служба, некоммерче...</td>\n",
       "      <td>Специалист, Государственная служба, некоммерче...</td>\n",
       "      <td>Тульская область, Тула</td>\n",
       "      <td>Полный рабочий день, Полная занятость</td>\n",
       "    </tr>\n",
       "  </tbody>\n",
       "</table>\n",
       "</div>"
      ],
      "text/plain": [
       "                                   position_industry  \\\n",
       "0  Специалист, Государственная служба, некоммерче...   \n",
       "\n",
       "                            position_industry_region  \\\n",
       "0  Специалист, Государственная служба, некоммерче...   \n",
       "\n",
       "                   position_industry_region_locality    region_locality_name  \\\n",
       "0  Специалист, Государственная служба, некоммерче...  Тульская область, Тула   \n",
       "\n",
       "               schedule_employement_type  \n",
       "0  Полный рабочий день, Полная занятость  "
      ]
     },
     "execution_count": 1003,
     "metadata": {},
     "output_type": "execute_result"
    }
   ],
   "source": [
    "df_custom_features.head(1)"
   ]
  },
  {
   "cell_type": "code",
   "execution_count": 1005,
   "metadata": {},
   "outputs": [
    {
     "data": {
      "text/plain": [
       "(303852, 5)"
      ]
     },
     "execution_count": 1005,
     "metadata": {},
     "output_type": "execute_result"
    }
   ],
   "source": [
    "df_custom_features.shape"
   ]
  },
  {
   "cell_type": "code",
   "execution_count": 1006,
   "metadata": {},
   "outputs": [],
   "source": [
    "import nltk\n",
    "from nltk.corpus import stopwords"
   ]
  },
  {
   "cell_type": "code",
   "execution_count": 1007,
   "metadata": {},
   "outputs": [],
   "source": [
    "stop = stopwords.words('russian')\n",
    "stemmer = nltk.stem.snowball.RussianStemmer('russian')"
   ]
  },
  {
   "cell_type": "code",
   "execution_count": 468,
   "metadata": {},
   "outputs": [],
   "source": [
    "def data_Stemmer(text):\n",
    "    return ' '.join([stemmer.stem(word) for word in text.split(' ') if word not in stop])\n",
    "import string"
   ]
  },
  {
   "cell_type": "code",
   "execution_count": 1009,
   "metadata": {},
   "outputs": [],
   "source": [
    "df_custom_features.position_industry_region = df_custom_features.position_industry_region.astype(str)\n",
    "df_custom_features.position_industry_region_locality = df_custom_features.position_industry_region_locality.astype(str)\n",
    "df_custom_features.region_locality_name = df_custom_features.region_locality_name.astype(str)\n",
    "df_custom_features.position_industry_region = df_custom_features.position_industry_region.str.replace(r'\\d+', '')\n",
    "df_custom_features.position_industry_region_locality = df_custom_features.position_industry_region_locality.str.replace('\\d+', '')\n",
    "df_custom_features.region_locality_name = df_custom_features.region_locality_name.str.replace('\\d+', '')"
   ]
  },
  {
   "cell_type": "code",
   "execution_count": 1010,
   "metadata": {},
   "outputs": [],
   "source": [
    "df_custom_features.position_industry_region = df_custom_features.position_industry_region.apply(lambda x: x.lower().replace('unknown', ''))\n",
    "df_custom_features.position_industry_region_locality = df_custom_features.position_industry_region_locality.apply(lambda x: x.lower().replace('unknown', ''))\n",
    "df_custom_features.region_locality_name = df_custom_features.region_locality_name.apply(lambda x: x.lower().replace('unknown', ''))\n",
    "df_custom_features.position_industry = df_custom_features.position_industry.apply(lambda x: x.lower().replace('unknown', ''))\n",
    "df_custom_features.schedule_employement_type = df_custom_features.schedule_employement_type.apply(lambda x: x.lower().replace('unknown', ''))"
   ]
  },
  {
   "cell_type": "code",
   "execution_count": 1011,
   "metadata": {},
   "outputs": [],
   "source": [
    "df_custom_features.position_industry = df_custom_features.position_industry.apply(lambda x: data_Stemmer(x))\n",
    "df_custom_features.schedule_employement_type = df_custom_features.schedule_employement_type.apply(lambda x: data_Stemmer(x))\n",
    "\n",
    "df_custom_features.position_industry_region = df_custom_features.position_industry_region.apply(lambda x: data_Stemmer(x))\n",
    "df_custom_features.position_industry_region_locality = df_custom_features.position_industry_region_locality.apply(lambda x: data_Stemmer(x))\n",
    "df_custom_features.region_locality_name = df_custom_features.region_locality_name.apply(lambda x: data_Stemmer(x))"
   ]
  },
  {
   "cell_type": "code",
   "execution_count": 1014,
   "metadata": {},
   "outputs": [],
   "source": [
    "df_custom_features.to_pickle('before_vectorize_df_1912')"
   ]
  },
  {
   "cell_type": "code",
   "execution_count": 475,
   "metadata": {},
   "outputs": [],
   "source": [
    "#df_custom_features.schedule_employement_type = df_custom_features.schedule_employement_type.apply(lambda x: data_Stemmer(x))"
   ]
  },
  {
   "cell_type": "code",
   "execution_count": 534,
   "metadata": {},
   "outputs": [],
   "source": [
    "#df_custom_features.position_industry_region = df_custom_features.position_industry_region.apply(lambda x: data_Stemmer(x))\n",
    "#df_custom_features.position_industry_region_locality = df_custom_features.position_industry_region_locality.apply(lambda x: data_Stemmer(x))\n",
    "#df_custom_features.region_locality_name = df_custom_features.region_locality_name.apply(lambda x: data_Stemmer(x))"
   ]
  },
  {
   "cell_type": "code",
   "execution_count": null,
   "metadata": {},
   "outputs": [],
   "source": []
  },
  {
   "cell_type": "code",
   "execution_count": null,
   "metadata": {},
   "outputs": [],
   "source": []
  },
  {
   "cell_type": "code",
   "execution_count": 542,
   "metadata": {},
   "outputs": [],
   "source": [
    "from sklearn.feature_extraction.text import TfidfTransformer, TfidfVectorizer\n",
    "from sklearn.model_selection import train_test_split\n",
    "tf_vectorizer = TfidfVectorizer(stop_words=stop, ngram_range=(1, 2), min_df=0.01, norm='l2')"
   ]
  },
  {
   "cell_type": "code",
   "execution_count": 543,
   "metadata": {},
   "outputs": [
    {
     "data": {
      "text/plain": [
       "(300704, 5)"
      ]
     },
     "execution_count": 543,
     "metadata": {},
     "output_type": "execute_result"
    }
   ],
   "source": [
    "df_custom_features.shape"
   ]
  },
  {
   "cell_type": "code",
   "execution_count": 544,
   "metadata": {},
   "outputs": [
    {
     "data": {
      "text/plain": [
       "(300704, 25)"
      ]
     },
     "execution_count": 544,
     "metadata": {},
     "output_type": "execute_result"
    }
   ],
   "source": [
    "df_tr.shape"
   ]
  },
  {
   "cell_type": "code",
   "execution_count": 545,
   "metadata": {},
   "outputs": [],
   "source": [
    "X = df_custom_features\n",
    "y = df_tr.salary"
   ]
  },
  {
   "cell_type": "code",
   "execution_count": 546,
   "metadata": {},
   "outputs": [],
   "source": [
    "Xtr, Xval, ytr, yval  = train_test_split(X, y, test_size=0.30, random_state=42)"
   ]
  },
  {
   "cell_type": "code",
   "execution_count": 547,
   "metadata": {},
   "outputs": [
    {
     "data": {
      "text/plain": [
       "((5, 5), (5, 5))"
      ]
     },
     "execution_count": 547,
     "metadata": {},
     "output_type": "execute_result"
    }
   ],
   "source": [
    "Xtr_tfidf = tf_vectorizer.fit_transform(Xtr)\n",
    "Xval_tfidf = tf_vectorizer.transform(Xval)\n",
    "Xtr_tfidf.shape, Xval_tfidf.shape"
   ]
  },
  {
   "cell_type": "code",
   "execution_count": 548,
   "metadata": {},
   "outputs": [
    {
     "data": {
      "text/plain": [
       "(300704, 5)"
      ]
     },
     "execution_count": 548,
     "metadata": {},
     "output_type": "execute_result"
    }
   ],
   "source": [
    "X.shape"
   ]
  },
  {
   "cell_type": "code",
   "execution_count": 549,
   "metadata": {},
   "outputs": [],
   "source": [
    "from sklearn.linear_model import SGDClassifier, LogisticRegressionCV"
   ]
  },
  {
   "cell_type": "code",
   "execution_count": 550,
   "metadata": {},
   "outputs": [],
   "source": [
    "logit_sgd = SGDClassifier(\n",
    "    loss='log', \n",
    "    shuffle=True, \n",
    "    n_iter_no_change=10, \n",
    "    max_iter=100, \n",
    "    penalty='l1', \n",
    "    random_state=42\n",
    ")"
   ]
  },
  {
   "cell_type": "code",
   "execution_count": 553,
   "metadata": {},
   "outputs": [],
   "source": []
  },
  {
   "cell_type": "code",
   "execution_count": null,
   "metadata": {},
   "outputs": [],
   "source": []
  },
  {
   "cell_type": "code",
   "execution_count": null,
   "metadata": {},
   "outputs": [],
   "source": []
  },
  {
   "cell_type": "code",
   "execution_count": 558,
   "metadata": {},
   "outputs": [],
   "source": [
    "#df_tr.to_pickle('half_clean_train')\n",
    "df_tr.to_pickle('half_clean_train')\n",
    "df_custom_features.to_pickle('before_vectorize_df')"
   ]
  },
  {
   "cell_type": "code",
   "execution_count": 1013,
   "metadata": {},
   "outputs": [
    {
     "data": {
      "text/plain": [
       "(303852, 5)"
      ]
     },
     "execution_count": 1013,
     "metadata": {},
     "output_type": "execute_result"
    }
   ],
   "source": [
    "df_custom_features.shape"
   ]
  },
  {
   "cell_type": "code",
   "execution_count": 649,
   "metadata": {},
   "outputs": [],
   "source": [
    "df_ed = pd.read_csv('/Users/vlad3d/Hackatons/PANDEMIC_HACK/data/pandemicdatahack/education.csv',sep=';',encoding='utf-8')"
   ]
  },
  {
   "cell_type": "code",
   "execution_count": 650,
   "metadata": {},
   "outputs": [
    {
     "data": {
      "text/html": [
       "<div>\n",
       "<style scoped>\n",
       "    .dataframe tbody tr th:only-of-type {\n",
       "        vertical-align: middle;\n",
       "    }\n",
       "\n",
       "    .dataframe tbody tr th {\n",
       "        vertical-align: top;\n",
       "    }\n",
       "\n",
       "    .dataframe thead th {\n",
       "        text-align: right;\n",
       "    }\n",
       "</style>\n",
       "<table border=\"1\" class=\"dataframe\">\n",
       "  <thead>\n",
       "    <tr style=\"text-align: right;\">\n",
       "      <th></th>\n",
       "      <th>id</th>\n",
       "      <th>graduation_year</th>\n",
       "      <th>institution</th>\n",
       "      <th>description</th>\n",
       "    </tr>\n",
       "  </thead>\n",
       "  <tbody>\n",
       "    <tr>\n",
       "      <th>0</th>\n",
       "      <td>0</td>\n",
       "      <td>2022.0</td>\n",
       "      <td>\"Тульский государственный университет\"</td>\n",
       "      <td>NaN</td>\n",
       "    </tr>\n",
       "    <tr>\n",
       "      <th>1</th>\n",
       "      <td>1</td>\n",
       "      <td>2016.0</td>\n",
       "      <td>\"Алтайский государственный аграрный университет\"</td>\n",
       "      <td>NaN</td>\n",
       "    </tr>\n",
       "    <tr>\n",
       "      <th>2</th>\n",
       "      <td>2</td>\n",
       "      <td>2014.0</td>\n",
       "      <td>\"Алтайский государственный технический универс...</td>\n",
       "      <td>NaN</td>\n",
       "    </tr>\n",
       "    <tr>\n",
       "      <th>3</th>\n",
       "      <td>3</td>\n",
       "      <td>2003.0</td>\n",
       "      <td>ГОУ СПО ДИМИТРОВГРАДСКИЙ ТЕХНИЧЕСКИЙ КОЛЛЕДЖ</td>\n",
       "      <td>NaN</td>\n",
       "    </tr>\n",
       "    <tr>\n",
       "      <th>4</th>\n",
       "      <td>4</td>\n",
       "      <td>2005.0</td>\n",
       "      <td>Нижнетагильский торгово-экономический техникум</td>\n",
       "      <td>NaN</td>\n",
       "    </tr>\n",
       "  </tbody>\n",
       "</table>\n",
       "</div>"
      ],
      "text/plain": [
       "   id  graduation_year                                        institution  \\\n",
       "0   0           2022.0             \"Тульский государственный университет\"   \n",
       "1   1           2016.0   \"Алтайский государственный аграрный университет\"   \n",
       "2   2           2014.0  \"Алтайский государственный технический универс...   \n",
       "3   3           2003.0       ГОУ СПО ДИМИТРОВГРАДСКИЙ ТЕХНИЧЕСКИЙ КОЛЛЕДЖ   \n",
       "4   4           2005.0     Нижнетагильский торгово-экономический техникум   \n",
       "\n",
       "  description  \n",
       "0         NaN  \n",
       "1         NaN  \n",
       "2         NaN  \n",
       "3         NaN  \n",
       "4         NaN  "
      ]
     },
     "execution_count": 650,
     "metadata": {},
     "output_type": "execute_result"
    }
   ],
   "source": [
    "df_ed.head()"
   ]
  },
  {
   "cell_type": "code",
   "execution_count": 651,
   "metadata": {},
   "outputs": [
    {
     "data": {
      "text/plain": [
       "(375364, 4)"
      ]
     },
     "execution_count": 651,
     "metadata": {},
     "output_type": "execute_result"
    }
   ],
   "source": [
    "df_ed.shape"
   ]
  },
  {
   "cell_type": "code",
   "execution_count": 652,
   "metadata": {},
   "outputs": [
    {
     "data": {
      "text/plain": [
       "id                   int64\n",
       "graduation_year    float64\n",
       "institution         object\n",
       "description         object\n",
       "dtype: object"
      ]
     },
     "execution_count": 652,
     "metadata": {},
     "output_type": "execute_result"
    }
   ],
   "source": [
    "df_ed.dtypes"
   ]
  },
  {
   "cell_type": "code",
   "execution_count": 653,
   "metadata": {},
   "outputs": [
    {
     "data": {
      "text/html": [
       "<div>\n",
       "<style scoped>\n",
       "    .dataframe tbody tr th:only-of-type {\n",
       "        vertical-align: middle;\n",
       "    }\n",
       "\n",
       "    .dataframe tbody tr th {\n",
       "        vertical-align: top;\n",
       "    }\n",
       "\n",
       "    .dataframe thead th {\n",
       "        text-align: right;\n",
       "    }\n",
       "</style>\n",
       "<table border=\"1\" class=\"dataframe\">\n",
       "  <thead>\n",
       "    <tr style=\"text-align: right;\">\n",
       "      <th></th>\n",
       "      <th>id</th>\n",
       "      <th>graduation_year</th>\n",
       "    </tr>\n",
       "  </thead>\n",
       "  <tbody>\n",
       "    <tr>\n",
       "      <th>count</th>\n",
       "      <td>375364.000000</td>\n",
       "      <td>375363.000000</td>\n",
       "    </tr>\n",
       "    <tr>\n",
       "      <th>mean</th>\n",
       "      <td>218712.302781</td>\n",
       "      <td>2007.511763</td>\n",
       "    </tr>\n",
       "    <tr>\n",
       "      <th>std</th>\n",
       "      <td>126278.948724</td>\n",
       "      <td>10.128001</td>\n",
       "    </tr>\n",
       "    <tr>\n",
       "      <th>min</th>\n",
       "      <td>0.000000</td>\n",
       "      <td>1937.000000</td>\n",
       "    </tr>\n",
       "    <tr>\n",
       "      <th>25%</th>\n",
       "      <td>109287.750000</td>\n",
       "      <td>2002.000000</td>\n",
       "    </tr>\n",
       "    <tr>\n",
       "      <th>50%</th>\n",
       "      <td>218698.000000</td>\n",
       "      <td>2009.000000</td>\n",
       "    </tr>\n",
       "    <tr>\n",
       "      <th>75%</th>\n",
       "      <td>328003.250000</td>\n",
       "      <td>2016.000000</td>\n",
       "    </tr>\n",
       "    <tr>\n",
       "      <th>max</th>\n",
       "      <td>437527.000000</td>\n",
       "      <td>2030.000000</td>\n",
       "    </tr>\n",
       "  </tbody>\n",
       "</table>\n",
       "</div>"
      ],
      "text/plain": [
       "                  id  graduation_year\n",
       "count  375364.000000    375363.000000\n",
       "mean   218712.302781      2007.511763\n",
       "std    126278.948724        10.128001\n",
       "min         0.000000      1937.000000\n",
       "25%    109287.750000      2002.000000\n",
       "50%    218698.000000      2009.000000\n",
       "75%    328003.250000      2016.000000\n",
       "max    437527.000000      2030.000000"
      ]
     },
     "execution_count": 653,
     "metadata": {},
     "output_type": "execute_result"
    }
   ],
   "source": [
    "df_ed.describe()"
   ]
  },
  {
   "cell_type": "code",
   "execution_count": 654,
   "metadata": {},
   "outputs": [
    {
     "data": {
      "text/plain": [
       "2019.0    19695\n",
       "2018.0    18650\n",
       "Name: graduation_year, dtype: int64"
      ]
     },
     "execution_count": 654,
     "metadata": {},
     "output_type": "execute_result"
    }
   ],
   "source": [
    "df_ed.graduation_year.value_counts().head(2)"
   ]
  },
  {
   "cell_type": "code",
   "execution_count": 655,
   "metadata": {},
   "outputs": [],
   "source": [
    "df_ed = df_ed.applymap(lambda s:s.lower() if type(s) == str else s)\n",
    "df_ed = df_ed.applymap(lambda s:s.replace('\"','') if type(s) == str else s)"
   ]
  },
  {
   "cell_type": "code",
   "execution_count": 656,
   "metadata": {},
   "outputs": [
    {
     "data": {
      "text/plain": [
       "132862"
      ]
     },
     "execution_count": 656,
     "metadata": {},
     "output_type": "execute_result"
    }
   ],
   "source": [
    "df_ed.institution.value_counts().count()"
   ]
  },
  {
   "cell_type": "code",
   "execution_count": 657,
   "metadata": {},
   "outputs": [],
   "source": [
    "#институты - 600,пту- 2.6,школы - 67к."
   ]
  },
  {
   "cell_type": "code",
   "execution_count": 641,
   "metadata": {},
   "outputs": [
    {
     "name": "stdout",
     "output_type": "stream",
     "text": [
      "<class 'pandas.core.frame.DataFrame'>\n",
      "RangeIndex: 375364 entries, 0 to 375363\n",
      "Data columns (total 4 columns):\n",
      " #   Column           Non-Null Count   Dtype  \n",
      "---  ------           --------------   -----  \n",
      " 0   id               375364 non-null  int64  \n",
      " 1   graduation_year  375363 non-null  float64\n",
      " 2   institution      375002 non-null  object \n",
      " 3   description      65 non-null      object \n",
      "dtypes: float64(1), int64(1), object(2)\n",
      "memory usage: 11.5+ MB\n"
     ]
    }
   ],
   "source": [
    "df_ed.info()"
   ]
  },
  {
   "cell_type": "code",
   "execution_count": 658,
   "metadata": {},
   "outputs": [],
   "source": [
    "df_ed = df_ed.drop(['description'],axis=1)"
   ]
  },
  {
   "cell_type": "code",
   "execution_count": 659,
   "metadata": {},
   "outputs": [],
   "source": [
    "df_ed = df_ed.dropna()"
   ]
  },
  {
   "cell_type": "code",
   "execution_count": 660,
   "metadata": {},
   "outputs": [
    {
     "name": "stdout",
     "output_type": "stream",
     "text": [
      "<class 'pandas.core.frame.DataFrame'>\n",
      "Int64Index: 375002 entries, 0 to 375363\n",
      "Data columns (total 3 columns):\n",
      " #   Column           Non-Null Count   Dtype  \n",
      "---  ------           --------------   -----  \n",
      " 0   id               375002 non-null  int64  \n",
      " 1   graduation_year  375002 non-null  float64\n",
      " 2   institution      375002 non-null  object \n",
      "dtypes: float64(1), int64(1), object(1)\n",
      "memory usage: 11.4+ MB\n"
     ]
    }
   ],
   "source": [
    "df_ed.info()"
   ]
  },
  {
   "cell_type": "code",
   "execution_count": 663,
   "metadata": {},
   "outputs": [],
   "source": [
    "df_ed['graduation_year'] = pd.to_datetime(df_ed['graduation_year'],format='%Y')"
   ]
  },
  {
   "cell_type": "code",
   "execution_count": 665,
   "metadata": {},
   "outputs": [],
   "source": [
    "df_ed = df_ed.drop(['graduation_year2'],axis=1)"
   ]
  },
  {
   "cell_type": "code",
   "execution_count": 666,
   "metadata": {},
   "outputs": [
    {
     "data": {
      "text/html": [
       "<div>\n",
       "<style scoped>\n",
       "    .dataframe tbody tr th:only-of-type {\n",
       "        vertical-align: middle;\n",
       "    }\n",
       "\n",
       "    .dataframe tbody tr th {\n",
       "        vertical-align: top;\n",
       "    }\n",
       "\n",
       "    .dataframe thead th {\n",
       "        text-align: right;\n",
       "    }\n",
       "</style>\n",
       "<table border=\"1\" class=\"dataframe\">\n",
       "  <thead>\n",
       "    <tr style=\"text-align: right;\">\n",
       "      <th></th>\n",
       "      <th>id</th>\n",
       "      <th>graduation_year</th>\n",
       "      <th>institution</th>\n",
       "    </tr>\n",
       "  </thead>\n",
       "  <tbody>\n",
       "    <tr>\n",
       "      <th>0</th>\n",
       "      <td>0</td>\n",
       "      <td>2022-01-01</td>\n",
       "      <td>тульский государственный университет</td>\n",
       "    </tr>\n",
       "    <tr>\n",
       "      <th>1</th>\n",
       "      <td>1</td>\n",
       "      <td>2016-01-01</td>\n",
       "      <td>алтайский государственный аграрный университет</td>\n",
       "    </tr>\n",
       "    <tr>\n",
       "      <th>2</th>\n",
       "      <td>2</td>\n",
       "      <td>2014-01-01</td>\n",
       "      <td>алтайский государственный технический универси...</td>\n",
       "    </tr>\n",
       "    <tr>\n",
       "      <th>3</th>\n",
       "      <td>3</td>\n",
       "      <td>2003-01-01</td>\n",
       "      <td>гоу спо димитровградский технический колледж</td>\n",
       "    </tr>\n",
       "    <tr>\n",
       "      <th>4</th>\n",
       "      <td>4</td>\n",
       "      <td>2005-01-01</td>\n",
       "      <td>нижнетагильский торгово-экономический техникум</td>\n",
       "    </tr>\n",
       "  </tbody>\n",
       "</table>\n",
       "</div>"
      ],
      "text/plain": [
       "   id graduation_year                                        institution\n",
       "0   0      2022-01-01               тульский государственный университет\n",
       "1   1      2016-01-01     алтайский государственный аграрный университет\n",
       "2   2      2014-01-01  алтайский государственный технический универси...\n",
       "3   3      2003-01-01       гоу спо димитровградский технический колледж\n",
       "4   4      2005-01-01     нижнетагильский торгово-экономический техникум"
      ]
     },
     "execution_count": 666,
     "metadata": {},
     "output_type": "execute_result"
    }
   ],
   "source": [
    "df_ed.head()"
   ]
  },
  {
   "cell_type": "code",
   "execution_count": 667,
   "metadata": {},
   "outputs": [],
   "source": [
    "df_ed.to_pickle('education_df')"
   ]
  },
  {
   "cell_type": "code",
   "execution_count": 669,
   "metadata": {},
   "outputs": [
    {
     "data": {
      "text/plain": [
       "(375002, 3)"
      ]
     },
     "execution_count": 669,
     "metadata": {},
     "output_type": "execute_result"
    }
   ],
   "source": [
    "df_ed.shape"
   ]
  },
  {
   "cell_type": "code",
   "execution_count": 670,
   "metadata": {},
   "outputs": [],
   "source": [
    "df_ed2 = pd.read_csv('/Users/vlad3d/Hackatons/PANDEMIC_HACK/data2/pandemicdatahack/education_mult.csv',sep=';',encoding='utf-8')"
   ]
  },
  {
   "cell_type": "code",
   "execution_count": 671,
   "metadata": {},
   "outputs": [
    {
     "data": {
      "text/plain": [
       "(453210, 4)"
      ]
     },
     "execution_count": 671,
     "metadata": {},
     "output_type": "execute_result"
    }
   ],
   "source": [
    "df_ed2.shape"
   ]
  },
  {
   "cell_type": "code",
   "execution_count": 672,
   "metadata": {},
   "outputs": [],
   "source": [
    "df_ed2 = df_ed2.applymap(lambda s:s.lower() if type(s) == str else s)\n",
    "df_ed2 = df_ed2.applymap(lambda s:s.replace('\"','') if type(s) == str else s)"
   ]
  },
  {
   "cell_type": "code",
   "execution_count": 674,
   "metadata": {},
   "outputs": [],
   "source": [
    "df_ed2 = df_ed2.drop(['description'],axis=1)"
   ]
  },
  {
   "cell_type": "code",
   "execution_count": 675,
   "metadata": {},
   "outputs": [],
   "source": [
    "df_ed2 = df_ed2.dropna()"
   ]
  },
  {
   "cell_type": "code",
   "execution_count": 676,
   "metadata": {},
   "outputs": [
    {
     "name": "stdout",
     "output_type": "stream",
     "text": [
      "<class 'pandas.core.frame.DataFrame'>\n",
      "Int64Index: 437118 entries, 0 to 437518\n",
      "Data columns (total 3 columns):\n",
      " #   Column           Non-Null Count   Dtype  \n",
      "---  ------           --------------   -----  \n",
      " 0   id               437118 non-null  float64\n",
      " 1   graduation_year  437118 non-null  float64\n",
      " 2   institution      437118 non-null  object \n",
      "dtypes: float64(2), object(1)\n",
      "memory usage: 13.3+ MB\n"
     ]
    }
   ],
   "source": [
    "df_ed2.info()"
   ]
  },
  {
   "cell_type": "code",
   "execution_count": 678,
   "metadata": {},
   "outputs": [],
   "source": [
    "df_ed2['graduation_year'] = pd.to_datetime(df_ed2['graduation_year'],format='%Y')"
   ]
  },
  {
   "cell_type": "code",
   "execution_count": 679,
   "metadata": {},
   "outputs": [],
   "source": [
    "df_ed2.to_pickle('education_mult_df')"
   ]
  },
  {
   "cell_type": "code",
   "execution_count": 680,
   "metadata": {},
   "outputs": [
    {
     "data": {
      "text/html": [
       "<div>\n",
       "<style scoped>\n",
       "    .dataframe tbody tr th:only-of-type {\n",
       "        vertical-align: middle;\n",
       "    }\n",
       "\n",
       "    .dataframe tbody tr th {\n",
       "        vertical-align: top;\n",
       "    }\n",
       "\n",
       "    .dataframe thead th {\n",
       "        text-align: right;\n",
       "    }\n",
       "</style>\n",
       "<table border=\"1\" class=\"dataframe\">\n",
       "  <thead>\n",
       "    <tr style=\"text-align: right;\">\n",
       "      <th></th>\n",
       "      <th>id</th>\n",
       "      <th>graduation_year</th>\n",
       "      <th>institution</th>\n",
       "    </tr>\n",
       "  </thead>\n",
       "  <tbody>\n",
       "    <tr>\n",
       "      <th>0</th>\n",
       "      <td>0.0</td>\n",
       "      <td>2022-01-01</td>\n",
       "      <td>тульский государственный университет</td>\n",
       "    </tr>\n",
       "    <tr>\n",
       "      <th>1</th>\n",
       "      <td>1.0</td>\n",
       "      <td>2016-01-01</td>\n",
       "      <td>алтайский государственный аграрный университет</td>\n",
       "    </tr>\n",
       "    <tr>\n",
       "      <th>2</th>\n",
       "      <td>10.0</td>\n",
       "      <td>2018-01-01</td>\n",
       "      <td>байкальский государственный университет г. ирк...</td>\n",
       "    </tr>\n",
       "    <tr>\n",
       "      <th>3</th>\n",
       "      <td>10.0</td>\n",
       "      <td>2014-01-01</td>\n",
       "      <td>якутский колледж инновационных технологий</td>\n",
       "    </tr>\n",
       "    <tr>\n",
       "      <th>4</th>\n",
       "      <td>100.0</td>\n",
       "      <td>2009-01-01</td>\n",
       "      <td>московский гуманитарный университет</td>\n",
       "    </tr>\n",
       "  </tbody>\n",
       "</table>\n",
       "</div>"
      ],
      "text/plain": [
       "      id graduation_year                                        institution\n",
       "0    0.0      2022-01-01               тульский государственный университет\n",
       "1    1.0      2016-01-01     алтайский государственный аграрный университет\n",
       "2   10.0      2018-01-01  байкальский государственный университет г. ирк...\n",
       "3   10.0      2014-01-01          якутский колледж инновационных технологий\n",
       "4  100.0      2009-01-01                московский гуманитарный университет"
      ]
     },
     "execution_count": 680,
     "metadata": {},
     "output_type": "execute_result"
    }
   ],
   "source": [
    "df_ed2.head()"
   ]
  },
  {
   "cell_type": "code",
   "execution_count": null,
   "metadata": {},
   "outputs": [],
   "source": []
  },
  {
   "cell_type": "code",
   "execution_count": null,
   "metadata": {},
   "outputs": [],
   "source": []
  },
  {
   "cell_type": "code",
   "execution_count": null,
   "metadata": {},
   "outputs": [],
   "source": []
  },
  {
   "cell_type": "code",
   "execution_count": null,
   "metadata": {},
   "outputs": [],
   "source": []
  },
  {
   "cell_type": "code",
   "execution_count": 1015,
   "metadata": {},
   "outputs": [
    {
     "name": "stderr",
     "output_type": "stream",
     "text": [
      "/Users/vlad3d/opt/anaconda3/envs/TensorFlow2/lib/python3.7/site-packages/IPython/core/interactiveshell.py:3147: DtypeWarning: Columns (18) have mixed types.Specify dtype option on import or set low_memory=False.\n",
      "  interactivity=interactivity, compiler=compiler, result=result)\n"
     ]
    }
   ],
   "source": [
    "df_te = pd.read_csv('/Users/vlad3d/Hackatons/PANDEMIC_HACK/data/pandemicdatahack/test.csv',sep=';',encoding='utf-8')"
   ]
  },
  {
   "cell_type": "code",
   "execution_count": 564,
   "metadata": {},
   "outputs": [
    {
     "data": {
      "text/plain": [
       "(131259, 24)"
      ]
     },
     "execution_count": 564,
     "metadata": {},
     "output_type": "execute_result"
    }
   ],
   "source": [
    "df_te.shape"
   ]
  },
  {
   "cell_type": "code",
   "execution_count": 1018,
   "metadata": {},
   "outputs": [
    {
     "name": "stdout",
     "output_type": "stream",
     "text": [
      "<class 'pandas.core.frame.DataFrame'>\n",
      "RangeIndex: 131259 entries, 0 to 131258\n",
      "Data columns (total 24 columns):\n",
      " #   Column                      Non-Null Count   Dtype  \n",
      "---  ------                      --------------   -----  \n",
      " 0   id                          131259 non-null  int64  \n",
      " 1   position                    131259 non-null  object \n",
      " 2   region                      131254 non-null  object \n",
      " 3   industry                    131259 non-null  object \n",
      " 4   locality                    131259 non-null  int64  \n",
      " 5   locality_name               124590 non-null  object \n",
      " 6   education_type              113833 non-null  object \n",
      " 7   drive_licences              52356 non-null   object \n",
      " 8   citizenship                 131259 non-null  object \n",
      " 9   schedule                    131259 non-null  object \n",
      " 10  employement_type            131259 non-null  object \n",
      " 11  age                         127962 non-null  float64\n",
      " 12  gender                      127967 non-null  object \n",
      " 13  experience                  131259 non-null  int64  \n",
      " 14  salary_desired              131259 non-null  int64  \n",
      " 15  relocation_ready            100238 non-null  object \n",
      " 16  travel_ready                101339 non-null  object \n",
      " 17  retraining_ready            106682 non-null  object \n",
      " 18  is_worldskills_participant  87 non-null      object \n",
      " 19  has_qualifications          1039 non-null    object \n",
      " 20  completeness_rate           131258 non-null  float64\n",
      " 21  creation_date               131256 non-null  object \n",
      " 22  modification_date           131256 non-null  object \n",
      " 23  publish_date                131259 non-null  object \n",
      "dtypes: float64(2), int64(4), object(18)\n",
      "memory usage: 24.0+ MB\n"
     ]
    }
   ],
   "source": [
    "df_te.info()"
   ]
  },
  {
   "cell_type": "code",
   "execution_count": 1017,
   "metadata": {},
   "outputs": [
    {
     "data": {
      "text/html": [
       "<div>\n",
       "<style scoped>\n",
       "    .dataframe tbody tr th:only-of-type {\n",
       "        vertical-align: middle;\n",
       "    }\n",
       "\n",
       "    .dataframe tbody tr th {\n",
       "        vertical-align: top;\n",
       "    }\n",
       "\n",
       "    .dataframe thead th {\n",
       "        text-align: right;\n",
       "    }\n",
       "</style>\n",
       "<table border=\"1\" class=\"dataframe\">\n",
       "  <thead>\n",
       "    <tr style=\"text-align: right;\">\n",
       "      <th></th>\n",
       "      <th>id</th>\n",
       "      <th>locality</th>\n",
       "      <th>age</th>\n",
       "      <th>experience</th>\n",
       "      <th>salary_desired</th>\n",
       "      <th>completeness_rate</th>\n",
       "    </tr>\n",
       "  </thead>\n",
       "  <tbody>\n",
       "    <tr>\n",
       "      <th>count</th>\n",
       "      <td>131259.000000</td>\n",
       "      <td>1.312590e+05</td>\n",
       "      <td>127962.000000</td>\n",
       "      <td>131259.000000</td>\n",
       "      <td>1.312590e+05</td>\n",
       "      <td>131258.000000</td>\n",
       "    </tr>\n",
       "    <tr>\n",
       "      <th>mean</th>\n",
       "      <td>218912.071987</td>\n",
       "      <td>4.763203e+12</td>\n",
       "      <td>35.668527</td>\n",
       "      <td>5.747286</td>\n",
       "      <td>3.366976e+04</td>\n",
       "      <td>69.079111</td>\n",
       "    </tr>\n",
       "    <tr>\n",
       "      <th>std</th>\n",
       "      <td>126301.758751</td>\n",
       "      <td>2.357135e+12</td>\n",
       "      <td>11.147872</td>\n",
       "      <td>7.884385</td>\n",
       "      <td>2.357696e+04</td>\n",
       "      <td>17.079561</td>\n",
       "    </tr>\n",
       "    <tr>\n",
       "      <th>min</th>\n",
       "      <td>2.000000</td>\n",
       "      <td>0.000000e+00</td>\n",
       "      <td>3.000000</td>\n",
       "      <td>0.000000</td>\n",
       "      <td>0.000000e+00</td>\n",
       "      <td>0.000000</td>\n",
       "    </tr>\n",
       "    <tr>\n",
       "      <th>25%</th>\n",
       "      <td>109499.000000</td>\n",
       "      <td>2.400001e+12</td>\n",
       "      <td>28.000000</td>\n",
       "      <td>0.000000</td>\n",
       "      <td>2.000000e+04</td>\n",
       "      <td>61.000000</td>\n",
       "    </tr>\n",
       "    <tr>\n",
       "      <th>50%</th>\n",
       "      <td>218986.000000</td>\n",
       "      <td>5.200000e+12</td>\n",
       "      <td>34.000000</td>\n",
       "      <td>3.000000</td>\n",
       "      <td>3.000000e+04</td>\n",
       "      <td>71.000000</td>\n",
       "    </tr>\n",
       "    <tr>\n",
       "      <th>75%</th>\n",
       "      <td>328305.500000</td>\n",
       "      <td>6.600002e+12</td>\n",
       "      <td>42.000000</td>\n",
       "      <td>9.000000</td>\n",
       "      <td>4.000000e+04</td>\n",
       "      <td>81.000000</td>\n",
       "    </tr>\n",
       "    <tr>\n",
       "      <th>max</th>\n",
       "      <td>437528.000000</td>\n",
       "      <td>9.900000e+12</td>\n",
       "      <td>1823.000000</td>\n",
       "      <td>1019.000000</td>\n",
       "      <td>1.143107e+06</td>\n",
       "      <td>100.000000</td>\n",
       "    </tr>\n",
       "  </tbody>\n",
       "</table>\n",
       "</div>"
      ],
      "text/plain": [
       "                  id      locality            age     experience  \\\n",
       "count  131259.000000  1.312590e+05  127962.000000  131259.000000   \n",
       "mean   218912.071987  4.763203e+12      35.668527       5.747286   \n",
       "std    126301.758751  2.357135e+12      11.147872       7.884385   \n",
       "min         2.000000  0.000000e+00       3.000000       0.000000   \n",
       "25%    109499.000000  2.400001e+12      28.000000       0.000000   \n",
       "50%    218986.000000  5.200000e+12      34.000000       3.000000   \n",
       "75%    328305.500000  6.600002e+12      42.000000       9.000000   \n",
       "max    437528.000000  9.900000e+12    1823.000000    1019.000000   \n",
       "\n",
       "       salary_desired  completeness_rate  \n",
       "count    1.312590e+05      131258.000000  \n",
       "mean     3.366976e+04          69.079111  \n",
       "std      2.357696e+04          17.079561  \n",
       "min      0.000000e+00           0.000000  \n",
       "25%      2.000000e+04          61.000000  \n",
       "50%      3.000000e+04          71.000000  \n",
       "75%      4.000000e+04          81.000000  \n",
       "max      1.143107e+06         100.000000  "
      ]
     },
     "execution_count": 1017,
     "metadata": {},
     "output_type": "execute_result"
    }
   ],
   "source": [
    "df_te.describe()"
   ]
  },
  {
   "cell_type": "code",
   "execution_count": 1019,
   "metadata": {},
   "outputs": [],
   "source": [
    "df_te['creation_date'] = pd.to_datetime(df_te['creation_date'])\n",
    "df_te['modification_date'] = pd.to_datetime(df_te['modification_date'])\n",
    "df_te['publish_date'] = pd.to_datetime(df_te['publish_date'])\n",
    "df_te['relocation_ready'] = df_te['relocation_ready'].astype('bool')\n",
    "df_te['travel_ready'] = df_te['travel_ready'].astype('bool')\n",
    "df_te['has_qualifications'] = df_te['has_qualifications'].astype('bool')\n",
    "df_te['retraining_ready'] = df_te['retraining_ready'].astype('bool')"
   ]
  },
  {
   "cell_type": "code",
   "execution_count": 1021,
   "metadata": {},
   "outputs": [
    {
     "data": {
      "text/plain": [
       "<seaborn.axisgrid.PairGrid at 0x1e7136c90>"
      ]
     },
     "execution_count": 1021,
     "metadata": {},
     "output_type": "execute_result"
    },
    {
     "data": {
      "image/png": "[encoded data removed]",
      "text/plain": [
       "<Figure size 720x720 with 20 Axes>"
      ]
     },
     "metadata": {
      "needs_background": "light"
     },
     "output_type": "display_data"
    }
   ],
   "source": [
    "df_te_digit = df_te[['age','experience','salary_desired','completeness_rate']]\n",
    "sns.pairplot(df_te_digit)"
   ]
  },
  {
   "cell_type": "code",
   "execution_count": 1022,
   "metadata": {},
   "outputs": [],
   "source": [
    "df_te.age = np.where((df_te.age>82)| (df_te.age < 14) ,35,df_te.age)"
   ]
  },
  {
   "cell_type": "code",
   "execution_count": 1023,
   "metadata": {},
   "outputs": [
    {
     "name": "stdout",
     "output_type": "stream",
     "text": [
      "Mean  35.65606977071318\n",
      "median  34.0\n"
     ]
    }
   ],
   "source": [
    "stats(df_te,'age')"
   ]
  },
  {
   "cell_type": "code",
   "execution_count": 1024,
   "metadata": {},
   "outputs": [
    {
     "data": {
      "text/plain": [
       "0"
      ]
     },
     "execution_count": 1024,
     "metadata": {},
     "output_type": "execute_result"
    }
   ],
   "source": [
    "df_te.age = df_te.age.fillna(35)\n",
    "df_te.age.isna().sum()"
   ]
  },
  {
   "cell_type": "code",
   "execution_count": 1026,
   "metadata": {},
   "outputs": [
    {
     "name": "stdout",
     "output_type": "stream",
     "text": [
      "Mean  33669.75813468029\n",
      "median  30000.0\n",
      "None\n"
     ]
    }
   ],
   "source": [
    "df_te.experience = np.where((df_te.experience>69),0,df_te.experience)\n",
    "print(stats(df_te,'salary_desired'))\n"
   ]
  },
  {
   "cell_type": "code",
   "execution_count": 1027,
   "metadata": {},
   "outputs": [],
   "source": [
    "df_te.salary_desired = np.where((df_te.salary_desired<1000),30000,df_te.salary_desired)"
   ]
  },
  {
   "cell_type": "code",
   "execution_count": 1028,
   "metadata": {},
   "outputs": [
    {
     "data": {
      "text/plain": [
       "0"
      ]
     },
     "execution_count": 1028,
     "metadata": {},
     "output_type": "execute_result"
    }
   ],
   "source": [
    "df_te[df_te.position.str.len() > 200].position.value_counts().count()\n",
    "df_te.position = np.where((df_te.position.str.len()>200),'специалист',df_te.position)\n",
    "df_te[df_te.position.str.len() > 200].position.value_counts().count()"
   ]
  },
  {
   "cell_type": "code",
   "execution_count": 1029,
   "metadata": {},
   "outputs": [],
   "source": [
    "df_te.region = df_te.region.fillna(df_te.region.value_counts().index[0])\n",
    "df_te.creation_date = df_te.creation_date.fillna(df_te.creation_date.value_counts().index[0])\n",
    "df_te.modification_date = df_te.modification_date.fillna(df_te.modification_date.value_counts().index[0])"
   ]
  },
  {
   "cell_type": "code",
   "execution_count": 1030,
   "metadata": {},
   "outputs": [],
   "source": [
    "df_te.locality_name = np.where((df_te.region=='Республика Башкортостан'),'уфа',df_te.locality_name)\n",
    "df_te.locality_name = np.where((df_te.region=='Республика Дагестан'),'махачкала',df_te.locality_name)\n",
    "df_te.locality_name = np.where((df_te.region=='Республика Бурятия'),'улан-удэ',df_te.locality_name)\n",
    "df_te.locality_name = np.where((df_te.region=='Республика Адыгея'),'майкоп',df_te.locality_name)\n",
    "df_te.locality_name = np.where((df_te.region=='Республика Алтай'),'горно-алтайск',df_te.locality_name)\n",
    "df_te.locality_name = np.where((df_te.region=='Республика Карачаево-Черкесия'),'черкесск',df_te.locality_name)\n",
    "df_te.locality_name = np.where((df_te.region=='Республика Кабардино-Балкария'),'нальчик',df_te.locality_name)\n",
    "df_te.locality_name = np.where((df_te.region=='Республика Калмыкия'),'элиста',df_te.locality_name)\n",
    "df_te.locality_name = df_te.locality_name.fillna(df_te.locality_name.value_counts().index[0])\n"
   ]
  },
  {
   "cell_type": "code",
   "execution_count": 1031,
   "metadata": {},
   "outputs": [],
   "source": [
    "df_te.education_type = df_te.education_type.ffill(axis = 0)\n",
    "df_te.gender = df_te.gender.ffill(axis = 0)"
   ]
  },
  {
   "cell_type": "code",
   "execution_count": 1035,
   "metadata": {},
   "outputs": [],
   "source": [
    "#df_te.info()"
   ]
  },
  {
   "cell_type": "code",
   "execution_count": 1033,
   "metadata": {},
   "outputs": [],
   "source": [
    "df_te = df_te[df_te.completeness_rate.notna()]"
   ]
  },
  {
   "cell_type": "code",
   "execution_count": null,
   "metadata": {},
   "outputs": [],
   "source": []
  },
  {
   "cell_type": "code",
   "execution_count": 1034,
   "metadata": {},
   "outputs": [
    {
     "name": "stdout",
     "output_type": "stream",
     "text": [
      "<class 'pandas.core.frame.DataFrame'>\n",
      "Int64Index: 131258 entries, 0 to 131258\n",
      "Data columns (total 24 columns):\n",
      " #   Column                      Non-Null Count   Dtype         \n",
      "---  ------                      --------------   -----         \n",
      " 0   id                          131258 non-null  int64         \n",
      " 1   position                    131258 non-null  object        \n",
      " 2   region                      131258 non-null  object        \n",
      " 3   industry                    131258 non-null  object        \n",
      " 4   locality                    131258 non-null  int64         \n",
      " 5   locality_name               131258 non-null  object        \n",
      " 6   education_type              131258 non-null  object        \n",
      " 7   drive_licences              52356 non-null   object        \n",
      " 8   citizenship                 131258 non-null  object        \n",
      " 9   schedule                    131258 non-null  object        \n",
      " 10  employement_type            131258 non-null  object        \n",
      " 11  age                         131258 non-null  float64       \n",
      " 12  gender                      131258 non-null  object        \n",
      " 13  experience                  131258 non-null  int64         \n",
      " 14  salary_desired              131258 non-null  int64         \n",
      " 15  relocation_ready            131258 non-null  bool          \n",
      " 16  travel_ready                131258 non-null  bool          \n",
      " 17  retraining_ready            131258 non-null  bool          \n",
      " 18  is_worldskills_participant  87 non-null      object        \n",
      " 19  has_qualifications          131258 non-null  bool          \n",
      " 20  completeness_rate           131258 non-null  float64       \n",
      " 21  creation_date               131258 non-null  datetime64[ns]\n",
      " 22  modification_date           131258 non-null  datetime64[ns]\n",
      " 23  publish_date                131258 non-null  datetime64[ns]\n",
      "dtypes: bool(4), datetime64[ns](3), float64(2), int64(4), object(11)\n",
      "memory usage: 21.5+ MB\n"
     ]
    }
   ],
   "source": [
    "df_te.info()"
   ]
  },
  {
   "cell_type": "code",
   "execution_count": 1036,
   "metadata": {},
   "outputs": [],
   "source": [
    "df_te.to_pickle('clean_test_df_1912')"
   ]
  },
  {
   "cell_type": "code",
   "execution_count": 1039,
   "metadata": {},
   "outputs": [],
   "source": [
    "stop = stopwords.words('russian')\n",
    "stemmer = nltk.stem.snowball.RussianStemmer('russian')"
   ]
  },
  {
   "cell_type": "code",
   "execution_count": 1043,
   "metadata": {},
   "outputs": [],
   "source": [
    "c13 = df_te.position +','+' '+ df_te.industry\n",
    "c23 = df_te.position +','+' '+ df_te.industry +','+' '+ df_te.region\n",
    "c33 = df_te.position +','+' '+ df_te.industry +','+' '+ df_te.region +','+' '+ df_te.locality_name\n",
    "c43 = df_te.region +','+' '+ df_te.locality_name\n",
    "c53 = df_te.schedule +','+' '+ df_te.employement_type\n",
    "\n",
    "df_custom_features_test = pd.DataFrame(columns=custom_feature_cols)\n",
    "\n",
    "df_custom_features_test.position_industry = c13\n",
    "df_custom_features_test.position_industry_region = c23\n",
    "df_custom_features_test.position_industry_region_locality = c33\n",
    "df_custom_features_test.region_locality_name = c43\n",
    "df_custom_features_test.schedule_employement_type = c53"
   ]
  },
  {
   "cell_type": "code",
   "execution_count": 1044,
   "metadata": {},
   "outputs": [],
   "source": [
    "df_custom_features_test.position_industry_region = df_custom_features_test.position_industry_region.astype(str)\n",
    "df_custom_features_test.position_industry_region_locality = df_custom_features_test.position_industry_region_locality.astype(str)\n",
    "df_custom_features_test.region_locality_name = df_custom_features_test.region_locality_name.astype(str)\n",
    "\n",
    "df_custom_features_test.position_industry_region = df_custom_features_test.position_industry_region.str.replace(r'\\d+', '')\n",
    "df_custom_features_test.position_industry_region_locality = df_custom_features_test.position_industry_region_locality.str.replace('\\d+', '')\n",
    "df_custom_features_test.region_locality_name = df_custom_features_test.region_locality_name.str.replace('\\d+', '')\n",
    "\n",
    "df_custom_features_test.position_industry_region = df_custom_features_test.position_industry_region.apply(lambda x: x.lower().replace('unknown', ''))\n",
    "df_custom_features_test.position_industry_region_locality = df_custom_features_test.position_industry_region_locality.apply(lambda x: x.lower().replace('unknown', ''))\n",
    "df_custom_features_test.region_locality_name = df_custom_features_test.region_locality_name.apply(lambda x: x.lower().replace('unknown', ''))\n",
    "\n",
    "df_custom_features_test.position_industry = df_custom_features_test.position_industry.apply(lambda x: x.lower().replace('unknown', ''))\n",
    "df_custom_features_test.schedule_employement_type = df_custom_features_test.schedule_employement_type.apply(lambda x: x.lower().replace('unknown', ''))"
   ]
  },
  {
   "cell_type": "code",
   "execution_count": 1045,
   "metadata": {},
   "outputs": [],
   "source": [
    "df_custom_features_test.position_industry = df_custom_features_test.position_industry.apply(lambda x: data_Stemmer(x))\n",
    "df_custom_features_test.schedule_employement_type = df_custom_features_test.schedule_employement_type.apply(lambda x: data_Stemmer(x))\n",
    "df_custom_features_test.position_industry_region = df_custom_features_test.position_industry_region.apply(lambda x: data_Stemmer(x))\n",
    "df_custom_features_test.position_industry_region_locality = df_custom_features_test.position_industry_region_locality.apply(lambda x: data_Stemmer(x))\n",
    "df_custom_features_test.region_locality_name = df_custom_features_test.region_locality_name.apply(lambda x: data_Stemmer(x))"
   ]
  },
  {
   "cell_type": "code",
   "execution_count": 1046,
   "metadata": {},
   "outputs": [],
   "source": [
    "df_custom_features_test.to_pickle('custom_features_test_df_1912')"
   ]
  },
  {
   "cell_type": "code",
   "execution_count": null,
   "metadata": {},
   "outputs": [],
   "source": []
  },
  {
   "cell_type": "code",
   "execution_count": null,
   "metadata": {},
   "outputs": [],
   "source": []
  },
  {
   "cell_type": "code",
   "execution_count": null,
   "metadata": {},
   "outputs": [],
   "source": []
  },
  {
   "cell_type": "code",
   "execution_count": null,
   "metadata": {},
   "outputs": [],
   "source": []
  },
  {
   "cell_type": "code",
   "execution_count": null,
   "metadata": {},
   "outputs": [],
   "source": []
  },
  {
   "cell_type": "code",
   "execution_count": null,
   "metadata": {},
   "outputs": [],
   "source": []
  },
  {
   "cell_type": "code",
   "execution_count": null,
   "metadata": {},
   "outputs": [],
   "source": []
  },
  {
   "cell_type": "code",
   "execution_count": null,
   "metadata": {},
   "outputs": [],
   "source": []
  },
  {
   "cell_type": "code",
   "execution_count": null,
   "metadata": {},
   "outputs": [],
   "source": []
  },
  {
   "cell_type": "code",
   "execution_count": 1055,
   "metadata": {},
   "outputs": [],
   "source": [
    "df_work2 = pd.read_csv('/Users/vlad3d/Hackatons/PANDEMIC_HACK/data2/pandemicdatahack/employements_mult.csv',sep=';',encoding='utf-8')"
   ]
  },
  {
   "cell_type": "code",
   "execution_count": 1060,
   "metadata": {},
   "outputs": [],
   "source": [
    "html_bad_tags = ['<p>-</p>','<p>...</p>','<ul></ul>','<p>.</p>','<p>.&nbsp,</p>','<p><em></em></p>','<p>','<ol>','<li>','<strong>','</p>',\n",
    "                 '</ol>','</li>','</strong>',\n",
    "                 '<span style=\"text-decoration: underline,\">',\n",
    "                 '<em>','</em>','&nbsp','</span>','&bull','<p><em></em></p>']"
   ]
  },
  {
   "cell_type": "code",
   "execution_count": 684,
   "metadata": {},
   "outputs": [],
   "source": [
    "#df_work2.achievements = df_work.achievements.astype(str)\n",
    "#df_work2.responsibilities = df_work.responsibilities.astype(str)\n",
    "#df_work2.position = df_work.position.astype(str)\n",
    "#df_work2.employer = df_work.employer.astype(str)"
   ]
  },
  {
   "cell_type": "code",
   "execution_count": 735,
   "metadata": {},
   "outputs": [],
   "source": [
    "work_list = ['achievements','responsibilities','position','employer']\n",
    "work_list1 = ['responsibilities']"
   ]
  },
  {
   "cell_type": "code",
   "execution_count": 721,
   "metadata": {},
   "outputs": [],
   "source": [
    "def replacer_symb(df,column_list,symbol_list):\n",
    "    for column in column_list:\n",
    "        for symbol in symbol_list:\n",
    "            df[column] = df[column].str.replace(symbol,'')"
   ]
  },
  {
   "cell_type": "code",
   "execution_count": 1061,
   "metadata": {},
   "outputs": [],
   "source": [
    "replacer_symb(df_work2,work_list,html_bad_tags)"
   ]
  },
  {
   "cell_type": "code",
   "execution_count": 1062,
   "metadata": {},
   "outputs": [
    {
     "name": "stdout",
     "output_type": "stream",
     "text": [
      "<class 'pandas.core.frame.DataFrame'>\n",
      "RangeIndex: 923643 entries, 0 to 923642\n",
      "Data columns (total 7 columns):\n",
      " #   Column            Non-Null Count   Dtype  \n",
      "---  ------            --------------   -----  \n",
      " 0   id                892716 non-null  float64\n",
      " 1   position          907375 non-null  object \n",
      " 2   employer          920164 non-null  object \n",
      " 3   achievements      152474 non-null  object \n",
      " 4   responsibilities  919830 non-null  object \n",
      " 5   start_date        921427 non-null  object \n",
      " 6   finish_date       857993 non-null  object \n",
      "dtypes: float64(1), object(6)\n",
      "memory usage: 49.3+ MB\n"
     ]
    }
   ],
   "source": [
    "df_work2.info()"
   ]
  },
  {
   "cell_type": "code",
   "execution_count": 1065,
   "metadata": {},
   "outputs": [
    {
     "data": {
      "text/plain": [
       "                                   4883\n",
       "Водитель                            695\n",
       "Согласно должностной инструкции     674\n",
       "Уборка помещений                    614\n",
       "водитель                            492\n",
       "Name: responsibilities, dtype: int64"
      ]
     },
     "execution_count": 1065,
     "metadata": {},
     "output_type": "execute_result"
    }
   ],
   "source": [
    "df_work2.responsibilities.value_counts().head()"
   ]
  },
  {
   "cell_type": "code",
   "execution_count": 1068,
   "metadata": {},
   "outputs": [],
   "source": [
    "df_work2 = df_work2.drop(['achievements'],axis=1)"
   ]
  },
  {
   "cell_type": "code",
   "execution_count": 1070,
   "metadata": {},
   "outputs": [],
   "source": [
    "df_work2 = df_work2.dropna()"
   ]
  },
  {
   "cell_type": "code",
   "execution_count": null,
   "metadata": {},
   "outputs": [],
   "source": []
  },
  {
   "cell_type": "code",
   "execution_count": null,
   "metadata": {},
   "outputs": [],
   "source": []
  },
  {
   "cell_type": "code",
   "execution_count": 1071,
   "metadata": {},
   "outputs": [
    {
     "name": "stdout",
     "output_type": "stream",
     "text": [
      "<class 'pandas.core.frame.DataFrame'>\n",
      "Int64Index: 815217 entries, 0 to 892715\n",
      "Data columns (total 6 columns):\n",
      " #   Column            Non-Null Count   Dtype  \n",
      "---  ------            --------------   -----  \n",
      " 0   id                815217 non-null  float64\n",
      " 1   position          815217 non-null  object \n",
      " 2   employer          815217 non-null  object \n",
      " 3   responsibilities  815217 non-null  object \n",
      " 4   start_date        815217 non-null  object \n",
      " 5   finish_date       815217 non-null  object \n",
      "dtypes: float64(1), object(5)\n",
      "memory usage: 43.5+ MB\n"
     ]
    }
   ],
   "source": [
    "df_work2.info()"
   ]
  },
  {
   "cell_type": "code",
   "execution_count": 1072,
   "metadata": {},
   "outputs": [],
   "source": [
    "df_work2.to_pickle('employ_mult_df_1912')"
   ]
  },
  {
   "cell_type": "code",
   "execution_count": null,
   "metadata": {},
   "outputs": [],
   "source": []
  },
  {
   "cell_type": "code",
   "execution_count": null,
   "metadata": {},
   "outputs": [],
   "source": []
  },
  {
   "cell_type": "code",
   "execution_count": null,
   "metadata": {},
   "outputs": [],
   "source": []
  },
  {
   "cell_type": "code",
   "execution_count": 763,
   "metadata": {},
   "outputs": [],
   "source": [
    "df_work3 = pd.read_csv('/Users/vlad3d/Hackatons/PANDEMIC_HACK/data2/pandemicdatahack/employements_mult.csv',sep=';',encoding='utf-8')"
   ]
  },
  {
   "cell_type": "code",
   "execution_count": 773,
   "metadata": {},
   "outputs": [],
   "source": [
    "#df_work3.responsibilities.value_counts().head(50)"
   ]
  },
  {
   "cell_type": "code",
   "execution_count": null,
   "metadata": {},
   "outputs": [],
   "source": []
  },
  {
   "cell_type": "code",
   "execution_count": null,
   "metadata": {},
   "outputs": [],
   "source": []
  },
  {
   "cell_type": "code",
   "execution_count": null,
   "metadata": {},
   "outputs": [],
   "source": []
  },
  {
   "cell_type": "code",
   "execution_count": null,
   "metadata": {},
   "outputs": [],
   "source": []
  },
  {
   "cell_type": "code",
   "execution_count": 774,
   "metadata": {},
   "outputs": [
    {
     "data": {
      "text/html": [
       "<div>\n",
       "<style scoped>\n",
       "    .dataframe tbody tr th:only-of-type {\n",
       "        vertical-align: middle;\n",
       "    }\n",
       "\n",
       "    .dataframe tbody tr th {\n",
       "        vertical-align: top;\n",
       "    }\n",
       "\n",
       "    .dataframe thead th {\n",
       "        text-align: right;\n",
       "    }\n",
       "</style>\n",
       "<table border=\"1\" class=\"dataframe\">\n",
       "  <thead>\n",
       "    <tr style=\"text-align: right;\">\n",
       "      <th></th>\n",
       "      <th>id</th>\n",
       "      <th>position</th>\n",
       "      <th>employer</th>\n",
       "      <th>achievements</th>\n",
       "      <th>responsibilities</th>\n",
       "      <th>start_date</th>\n",
       "      <th>finish_date</th>\n",
       "    </tr>\n",
       "  </thead>\n",
       "  <tbody>\n",
       "    <tr>\n",
       "      <th>0</th>\n",
       "      <td>0.0</td>\n",
       "      <td>специалист</td>\n",
       "      <td>АО \"РТК\"</td>\n",
       "      <td>NaN</td>\n",
       "      <td>Консультирование клиентов и продажа товара, ра...</td>\n",
       "      <td>2017-06-01</td>\n",
       "      <td>2019-06-01</td>\n",
       "    </tr>\n",
       "    <tr>\n",
       "      <th>1</th>\n",
       "      <td>0.0</td>\n",
       "      <td>специалист</td>\n",
       "      <td>ООО \"Евросеть-Ритейл\"</td>\n",
       "      <td>NaN</td>\n",
       "      <td>Консультирование клиентов и продажа товара, ра...</td>\n",
       "      <td>2017-05-01</td>\n",
       "      <td>2017-06-01</td>\n",
       "    </tr>\n",
       "    <tr>\n",
       "      <th>2</th>\n",
       "      <td>0.0</td>\n",
       "      <td>NaN</td>\n",
       "      <td>АО \"МегаФон Ритейл\"</td>\n",
       "      <td>NaN</td>\n",
       "      <td>Консультирование клиентов и продажа товара, ра...</td>\n",
       "      <td>2019-06-01</td>\n",
       "      <td>2019-11-01</td>\n",
       "    </tr>\n",
       "    <tr>\n",
       "      <th>3</th>\n",
       "      <td>0.0</td>\n",
       "      <td>NaN</td>\n",
       "      <td>ПАО \"МегаФон\"</td>\n",
       "      <td>NaN</td>\n",
       "      <td>Консультирование клиентов по телефону. Продажа...</td>\n",
       "      <td>2019-06-01</td>\n",
       "      <td>2020-04-01</td>\n",
       "    </tr>\n",
       "    <tr>\n",
       "      <th>4</th>\n",
       "      <td>1.0</td>\n",
       "      <td>Копирайтер/рерайтер</td>\n",
       "      <td>WorkHardOnline</td>\n",
       "      <td>NaN</td>\n",
       "      <td>✑Фриланс✑✑,копирайтинг и рерайтинг статей на р...</td>\n",
       "      <td>2019-10-01</td>\n",
       "      <td>NaN</td>\n",
       "    </tr>\n",
       "  </tbody>\n",
       "</table>\n",
       "</div>"
      ],
      "text/plain": [
       "    id             position               employer achievements  \\\n",
       "0  0.0           специалист               АО \"РТК\"          NaN   \n",
       "1  0.0           специалист  ООО \"Евросеть-Ритейл\"          NaN   \n",
       "2  0.0                  NaN    АО \"МегаФон Ритейл\"          NaN   \n",
       "3  0.0                  NaN          ПАО \"МегаФон\"          NaN   \n",
       "4  1.0  Копирайтер/рерайтер         WorkHardOnline          NaN   \n",
       "\n",
       "                                    responsibilities  start_date finish_date  \n",
       "0  Консультирование клиентов и продажа товара, ра...  2017-06-01  2019-06-01  \n",
       "1  Консультирование клиентов и продажа товара, ра...  2017-05-01  2017-06-01  \n",
       "2  Консультирование клиентов и продажа товара, ра...  2019-06-01  2019-11-01  \n",
       "3  Консультирование клиентов по телефону. Продажа...  2019-06-01  2020-04-01  \n",
       "4  ✑Фриланс✑✑,копирайтинг и рерайтинг статей на р...  2019-10-01         NaN  "
      ]
     },
     "execution_count": 774,
     "metadata": {},
     "output_type": "execute_result"
    }
   ],
   "source": [
    "df_work2.head()"
   ]
  },
  {
   "cell_type": "code",
   "execution_count": 717,
   "metadata": {},
   "outputs": [
    {
     "name": "stdout",
     "output_type": "stream",
     "text": [
      "Колонка id\n",
      "144864.0    40\n",
      "389189.0    39\n",
      "397475.0    32\n",
      "191864.0    32\n",
      "376738.0    31\n",
      "Name: id, dtype: int64\n",
      "Количество величин 343355\n",
      "Количество NAN - 30927\n",
      "**********************\n",
      "\n",
      "Колонка position\n",
      "Бухгалтер               16954\n",
      "Администратор            8887\n",
      "Продавец-консультант     8158\n",
      "Продавец                 7968\n",
      "бухгалтер                7171\n",
      "Name: position, dtype: int64\n",
      "Количество величин 231579\n",
      "Количество NAN - 16268\n",
      "**********************\n",
      "\n",
      "Колонка employer\n",
      "ПАО Сбербанк    2365\n",
      "АО Тандер       1242\n",
      "ОАО РЖД         1177\n",
      "ИП              1101\n",
      "Почта России    1084\n",
      "Name: employer, dtype: int64\n",
      "Количество величин 644027\n",
      "Количество NAN - 3479\n",
      "**********************\n",
      "\n",
      "Колонка achievements\n",
      "<p>нет</p>                                                  1205\n",
      "<ol><li></li></ol>                                          1062\n",
      "<p><span style=\"text-decoration: underline,\"></span></p>     996\n",
      "<p>Нет</p>                                                   956\n",
      "<p>-</p>                                                     765\n",
      "Name: achievements, dtype: int64\n",
      "Количество величин 125664\n",
      "Количество NAN - 771169\n",
      "**********************\n",
      "\n",
      "Колонка responsibilities\n",
      "<p>.</p>                                  1603\n",
      "<p>-</p>                                  1443\n",
      "<p>Водитель</p>                            629\n",
      "<p>Согласно должностной инструкции</p>     627\n",
      "<p>Уборка помещений</p>                    593\n",
      "Name: responsibilities, dtype: int64\n",
      "Количество величин 767042\n",
      "Количество NAN - 3813\n",
      "**********************\n",
      "\n",
      "Колонка start_date\n",
      "2019-09-01    9994\n",
      "2019-10-01    9237\n",
      "2018-09-01    8845\n",
      "2017-09-01    8550\n",
      "2018-10-01    8258\n",
      "Name: start_date, dtype: int64\n",
      "Количество величин 656\n",
      "Количество NAN - 2216\n",
      "**********************\n",
      "\n",
      "Колонка finish_date\n",
      "2020-04-01    28772\n",
      "2020-03-01    22845\n",
      "2020-05-01    16413\n",
      "2020-06-01    14086\n",
      "2020-02-01    12692\n",
      "Name: finish_date, dtype: int64\n",
      "Количество величин 1096\n",
      "Количество NAN - 65650\n",
      "**********************\n",
      "\n"
     ]
    }
   ],
   "source": [
    "for elem in df_work2.columns:\n",
    "    value_counter(df_work2,elem)"
   ]
  },
  {
   "cell_type": "code",
   "execution_count": 762,
   "metadata": {},
   "outputs": [
    {
     "data": {
      "text/plain": [
       ".                                            1695\n",
       "-                                            1485\n",
       "                                              947\n",
       "Водитель                                      695\n",
       "Согласно должностной инструкции               674\n",
       "Уборка помещений                              614\n",
       "водитель                                      492\n",
       "Работа с документами                          483\n",
       "Продажи                                       475\n",
       "согласно должностной инструкции               385\n",
       "уборка помещений                              380\n",
       "Работа с клиентами                            344\n",
       "Перевозка грузов                              308\n",
       "Перевозка пассажиров                          297\n",
       "Делопроизводство                              279\n",
       "Приготовление пищи                            278\n",
       "Продавец                                      278\n",
       "Продажа                                       267\n",
       "Охрана объекта                                264\n",
       "Охрана                                        256\n",
       "Ремонт и обслуживание электрооборудования     245\n",
       "Уборка территории                             238\n",
       "Охрана объектов                               236\n",
       "Продажа товара                                232\n",
       "Согласно должностной инструкции.              228\n",
       "Ведение бухгалтерского учета                  226\n",
       "В соответствии с должностной инструкцией      220\n",
       "Уборка служебных помещений                    219\n",
       "...                                           216\n",
       "перевозка грузов                              208\n",
       "Разнорабочий                                  202\n",
       "продажи                                       197\n",
       "продавец                                      194\n",
       "охрана объекта                                192\n",
       "уборка территории                             190\n",
       "Обслуживание клиентов                         187\n",
       "<ul></ul>                                     181\n",
       ".,                                            178\n",
       "Работа на кассе                               177\n",
       "охрана                                        177\n",
       "Водитель автомобиля                           174\n",
       "Ремонт автомобилей                            171\n",
       ",,                                            162\n",
       "Ремонт оборудования                           162\n",
       "Продажа товаров                               160\n",
       "Торговля                                      159\n",
       "работа с документами                          157\n",
       "Повар                                         155\n",
       "приготовление пищи                            155\n",
       "разнорабочий                                  153\n",
       "Name: responsibilities, dtype: int64"
      ]
     },
     "execution_count": 762,
     "metadata": {},
     "output_type": "execute_result"
    }
   ],
   "source": [
    "df_work2.responsibilities.value_counts().head(50)"
   ]
  },
  {
   "cell_type": "code",
   "execution_count": null,
   "metadata": {},
   "outputs": [],
   "source": []
  },
  {
   "cell_type": "code",
   "execution_count": null,
   "metadata": {},
   "outputs": [],
   "source": []
  },
  {
   "cell_type": "code",
   "execution_count": 718,
   "metadata": {},
   "outputs": [],
   "source": [
    "df_work2 = df_work2.applymap(lambda s:s.lower() if type(s) == str else s)"
   ]
  },
  {
   "cell_type": "code",
   "execution_count": null,
   "metadata": {},
   "outputs": [],
   "source": []
  },
  {
   "cell_type": "code",
   "execution_count": 719,
   "metadata": {},
   "outputs": [
    {
     "data": {
      "text/html": [
       "<div>\n",
       "<style scoped>\n",
       "    .dataframe tbody tr th:only-of-type {\n",
       "        vertical-align: middle;\n",
       "    }\n",
       "\n",
       "    .dataframe tbody tr th {\n",
       "        vertical-align: top;\n",
       "    }\n",
       "\n",
       "    .dataframe thead th {\n",
       "        text-align: right;\n",
       "    }\n",
       "</style>\n",
       "<table border=\"1\" class=\"dataframe\">\n",
       "  <thead>\n",
       "    <tr style=\"text-align: right;\">\n",
       "      <th></th>\n",
       "      <th>id</th>\n",
       "      <th>position</th>\n",
       "      <th>employer</th>\n",
       "      <th>achievements</th>\n",
       "      <th>responsibilities</th>\n",
       "      <th>start_date</th>\n",
       "      <th>finish_date</th>\n",
       "    </tr>\n",
       "  </thead>\n",
       "  <tbody>\n",
       "    <tr>\n",
       "      <th>0</th>\n",
       "      <td>0.0</td>\n",
       "      <td>специалист</td>\n",
       "      <td>ао \"ртк\"</td>\n",
       "      <td>NaN</td>\n",
       "      <td>&lt;p&gt;консультирование клиентов и продажа товара,...</td>\n",
       "      <td>2017-06-01</td>\n",
       "      <td>2019-06-01</td>\n",
       "    </tr>\n",
       "    <tr>\n",
       "      <th>1</th>\n",
       "      <td>0.0</td>\n",
       "      <td>специалист</td>\n",
       "      <td>ооо \"евросеть-ритейл\"</td>\n",
       "      <td>NaN</td>\n",
       "      <td>&lt;p&gt;консультирование клиентов и продажа товара,...</td>\n",
       "      <td>2017-05-01</td>\n",
       "      <td>2017-06-01</td>\n",
       "    </tr>\n",
       "    <tr>\n",
       "      <th>2</th>\n",
       "      <td>0.0</td>\n",
       "      <td>NaN</td>\n",
       "      <td>ао \"мегафон ритейл\"</td>\n",
       "      <td>NaN</td>\n",
       "      <td>&lt;p&gt;консультирование клиентов и продажа товара,...</td>\n",
       "      <td>2019-06-01</td>\n",
       "      <td>2019-11-01</td>\n",
       "    </tr>\n",
       "    <tr>\n",
       "      <th>3</th>\n",
       "      <td>0.0</td>\n",
       "      <td>NaN</td>\n",
       "      <td>пао \"мегафон\"</td>\n",
       "      <td>NaN</td>\n",
       "      <td>&lt;p&gt;консультирование клиентов по телефону. прод...</td>\n",
       "      <td>2019-06-01</td>\n",
       "      <td>2020-04-01</td>\n",
       "    </tr>\n",
       "    <tr>\n",
       "      <th>4</th>\n",
       "      <td>1.0</td>\n",
       "      <td>копирайтер/рерайтер</td>\n",
       "      <td>workhardonline</td>\n",
       "      <td>NaN</td>\n",
       "      <td>&lt;p&gt;&lt;strong&gt;✑&lt;/strong&gt;&lt;strong&gt;фриланс&lt;/strong&gt;&lt;...</td>\n",
       "      <td>2019-10-01</td>\n",
       "      <td>NaN</td>\n",
       "    </tr>\n",
       "  </tbody>\n",
       "</table>\n",
       "</div>"
      ],
      "text/plain": [
       "    id             position               employer achievements  \\\n",
       "0  0.0           специалист               ао \"ртк\"          NaN   \n",
       "1  0.0           специалист  ооо \"евросеть-ритейл\"          NaN   \n",
       "2  0.0                  NaN    ао \"мегафон ритейл\"          NaN   \n",
       "3  0.0                  NaN          пао \"мегафон\"          NaN   \n",
       "4  1.0  копирайтер/рерайтер         workhardonline          NaN   \n",
       "\n",
       "                                    responsibilities  start_date finish_date  \n",
       "0  <p>консультирование клиентов и продажа товара,...  2017-06-01  2019-06-01  \n",
       "1  <p>консультирование клиентов и продажа товара,...  2017-05-01  2017-06-01  \n",
       "2  <p>консультирование клиентов и продажа товара,...  2019-06-01  2019-11-01  \n",
       "3  <p>консультирование клиентов по телефону. прод...  2019-06-01  2020-04-01  \n",
       "4  <p><strong>✑</strong><strong>фриланс</strong><...  2019-10-01         NaN  "
      ]
     },
     "execution_count": 719,
     "metadata": {},
     "output_type": "execute_result"
    }
   ],
   "source": [
    "df_work2.head()"
   ]
  },
  {
   "cell_type": "code",
   "execution_count": null,
   "metadata": {},
   "outputs": [],
   "source": []
  },
  {
   "cell_type": "code",
   "execution_count": null,
   "metadata": {},
   "outputs": [],
   "source": []
  },
  {
   "cell_type": "code",
   "execution_count": null,
   "metadata": {},
   "outputs": [],
   "source": []
  },
  {
   "cell_type": "code",
   "execution_count": null,
   "metadata": {},
   "outputs": [],
   "source": []
  },
  {
   "cell_type": "code",
   "execution_count": 706,
   "metadata": {},
   "outputs": [
    {
     "data": {
      "text/html": [
       "<div>\n",
       "<style scoped>\n",
       "    .dataframe tbody tr th:only-of-type {\n",
       "        vertical-align: middle;\n",
       "    }\n",
       "\n",
       "    .dataframe tbody tr th {\n",
       "        vertical-align: top;\n",
       "    }\n",
       "\n",
       "    .dataframe thead th {\n",
       "        text-align: right;\n",
       "    }\n",
       "</style>\n",
       "<table border=\"1\" class=\"dataframe\">\n",
       "  <thead>\n",
       "    <tr style=\"text-align: right;\">\n",
       "      <th></th>\n",
       "      <th>id</th>\n",
       "      <th>position</th>\n",
       "      <th>employer</th>\n",
       "      <th>achievements</th>\n",
       "      <th>responsibilities</th>\n",
       "      <th>start_date</th>\n",
       "      <th>finish_date</th>\n",
       "    </tr>\n",
       "  </thead>\n",
       "  <tbody>\n",
       "    <tr>\n",
       "      <th>0</th>\n",
       "      <td>0.0</td>\n",
       "      <td>специалист</td>\n",
       "      <td>ао \"ртк\"</td>\n",
       "      <td>NaN</td>\n",
       "      <td>&lt;p&gt;консультирование клиентов и продажа товара,...</td>\n",
       "      <td>2017-06-01</td>\n",
       "      <td>2019-06-01</td>\n",
       "    </tr>\n",
       "    <tr>\n",
       "      <th>1</th>\n",
       "      <td>0.0</td>\n",
       "      <td>специалист</td>\n",
       "      <td>ооо \"евросеть-ритейл\"</td>\n",
       "      <td>NaN</td>\n",
       "      <td>&lt;p&gt;консультирование клиентов и продажа товара,...</td>\n",
       "      <td>2017-05-01</td>\n",
       "      <td>2017-06-01</td>\n",
       "    </tr>\n",
       "    <tr>\n",
       "      <th>2</th>\n",
       "      <td>0.0</td>\n",
       "      <td>NaN</td>\n",
       "      <td>ао \"мегафон ритейл\"</td>\n",
       "      <td>NaN</td>\n",
       "      <td>&lt;p&gt;консультирование клиентов и продажа товара,...</td>\n",
       "      <td>2019-06-01</td>\n",
       "      <td>2019-11-01</td>\n",
       "    </tr>\n",
       "    <tr>\n",
       "      <th>3</th>\n",
       "      <td>0.0</td>\n",
       "      <td>NaN</td>\n",
       "      <td>пао \"мегафон\"</td>\n",
       "      <td>NaN</td>\n",
       "      <td>&lt;p&gt;консультирование клиентов по телефону. прод...</td>\n",
       "      <td>2019-06-01</td>\n",
       "      <td>2020-04-01</td>\n",
       "    </tr>\n",
       "    <tr>\n",
       "      <th>4</th>\n",
       "      <td>1.0</td>\n",
       "      <td>копирайтер/рерайтер</td>\n",
       "      <td>workhardonline</td>\n",
       "      <td>NaN</td>\n",
       "      <td>&lt;p&gt;&lt;strong&gt;✑&lt;/strong&gt;&lt;strong&gt;фриланс&lt;/strong&gt;&lt;...</td>\n",
       "      <td>2019-10-01</td>\n",
       "      <td>NaN</td>\n",
       "    </tr>\n",
       "  </tbody>\n",
       "</table>\n",
       "</div>"
      ],
      "text/plain": [
       "    id             position               employer achievements  \\\n",
       "0  0.0           специалист               ао \"ртк\"          NaN   \n",
       "1  0.0           специалист  ооо \"евросеть-ритейл\"          NaN   \n",
       "2  0.0                  NaN    ао \"мегафон ритейл\"          NaN   \n",
       "3  0.0                  NaN          пао \"мегафон\"          NaN   \n",
       "4  1.0  копирайтер/рерайтер         workhardonline          NaN   \n",
       "\n",
       "                                    responsibilities  start_date finish_date  \n",
       "0  <p>консультирование клиентов и продажа товара,...  2017-06-01  2019-06-01  \n",
       "1  <p>консультирование клиентов и продажа товара,...  2017-05-01  2017-06-01  \n",
       "2  <p>консультирование клиентов и продажа товара,...  2019-06-01  2019-11-01  \n",
       "3  <p>консультирование клиентов по телефону. прод...  2019-06-01  2020-04-01  \n",
       "4  <p><strong>✑</strong><strong>фриланс</strong><...  2019-10-01         NaN  "
      ]
     },
     "execution_count": 706,
     "metadata": {},
     "output_type": "execute_result"
    }
   ],
   "source": [
    "df_work2.head()"
   ]
  },
  {
   "cell_type": "code",
   "execution_count": 578,
   "metadata": {},
   "outputs": [
    {
     "data": {
      "text/plain": [
       "<p>-</p>                   657\n",
       "<p>.</p>                   558\n",
       "<p>Уборка помещений</p>    318\n",
       "<ol><li></li></ol>         287\n",
       "<p>Водитель</p>            276\n",
       "Name: responsibilities, dtype: int64"
      ]
     },
     "execution_count": 578,
     "metadata": {},
     "output_type": "execute_result"
    }
   ],
   "source": [
    "df_work.responsibilities.value_counts().head() #надо чисить от п"
   ]
  },
  {
   "cell_type": "code",
   "execution_count": null,
   "metadata": {},
   "outputs": [],
   "source": [
    "html_bad_tags = ['<p>','<ol>','<li>','<strong>','</p>',\n",
    "                 '</ol>','</li>','</strong>',\n",
    "                 '<span style=\"text-decoration: underline,\">',\n",
    "                 '<em>','</em>','&nbsp']"
   ]
  },
  {
   "cell_type": "code",
   "execution_count": 579,
   "metadata": {},
   "outputs": [],
   "source": [
    "df_work.achievements = df_work.achievements.astype(str)\n",
    "df_work.responsibilities = df_work.responsibilities.astype(str)\n",
    "df_work.position = df_work.position.astype(str)\n",
    "df_work.employer = df_work.employer.astype(str)"
   ]
  },
  {
   "cell_type": "code",
   "execution_count": null,
   "metadata": {},
   "outputs": [],
   "source": [
    "work_list = ['achievements','responsibilities','position','employer']"
   ]
  },
  {
   "cell_type": "code",
   "execution_count": 581,
   "metadata": {},
   "outputs": [],
   "source": [
    "df_work.position = df_work.position.str.replace('<p>','')"
   ]
  },
  {
   "cell_type": "code",
   "execution_count": 582,
   "metadata": {},
   "outputs": [],
   "source": [
    "def replacer_symb(df,column_list,symbol_list):\n",
    "    for column in column_list:\n",
    "        for symbol in symbol_list:\n",
    "            df[column] = df[column].str.replace(symbol,'')"
   ]
  },
  {
   "cell_type": "code",
   "execution_count": null,
   "metadata": {},
   "outputs": [],
   "source": [
    "replacer_symb"
   ]
  },
  {
   "cell_type": "code",
   "execution_count": null,
   "metadata": {},
   "outputs": [],
   "source": []
  },
  {
   "cell_type": "code",
   "execution_count": 600,
   "metadata": {},
   "outputs": [],
   "source": [
    "# df_tr['creation_date'] = pd.to_datetime(df_tr['creation_date'])\n",
    "# df_tr['modification_date'] = pd.to_datetime(df_tr['modification_date'])\n",
    "# df_tr['publish_date'] = pd.to_datetime(df_tr['publish_date'])\n",
    "df_time = df_tr[['creation_date','modification_date','publish_date']]\n",
    "# train['del_mod_cre']=train.modification_date - train.creation_date\n",
    "# train['del_mod_pub']=train.modification_date - train.publish_date"
   ]
  },
  {
   "cell_type": "code",
   "execution_count": 601,
   "metadata": {},
   "outputs": [
    {
     "name": "stderr",
     "output_type": "stream",
     "text": [
      "/Users/vlad3d/opt/anaconda3/envs/TensorFlow2/lib/python3.7/site-packages/ipykernel_launcher.py:1: SettingWithCopyWarning: \n",
      "A value is trying to be set on a copy of a slice from a DataFrame.\n",
      "Try using .loc[row_indexer,col_indexer] = value instead\n",
      "\n",
      "See the caveats in the documentation: https://pandas.pydata.org/pandas-docs/stable/user_guide/indexing.html#returning-a-view-versus-a-copy\n",
      "  \"\"\"Entry point for launching an IPython kernel.\n",
      "/Users/vlad3d/opt/anaconda3/envs/TensorFlow2/lib/python3.7/site-packages/ipykernel_launcher.py:2: SettingWithCopyWarning: \n",
      "A value is trying to be set on a copy of a slice from a DataFrame.\n",
      "Try using .loc[row_indexer,col_indexer] = value instead\n",
      "\n",
      "See the caveats in the documentation: https://pandas.pydata.org/pandas-docs/stable/user_guide/indexing.html#returning-a-view-versus-a-copy\n",
      "  \n"
     ]
    }
   ],
   "source": [
    "df_time['del_mod_cre'] = df_time.modification_date - df_time.creation_date\n",
    "df_time['del_mod_pub'] = df_time.modification_date - df_time.publish_date"
   ]
  },
  {
   "cell_type": "code",
   "execution_count": 608,
   "metadata": {},
   "outputs": [
    {
     "name": "stderr",
     "output_type": "stream",
     "text": [
      "/Users/vlad3d/opt/anaconda3/envs/TensorFlow2/lib/python3.7/site-packages/ipykernel_launcher.py:1: SettingWithCopyWarning: \n",
      "A value is trying to be set on a copy of a slice from a DataFrame.\n",
      "Try using .loc[row_indexer,col_indexer] = value instead\n",
      "\n",
      "See the caveats in the documentation: https://pandas.pydata.org/pandas-docs/stable/user_guide/indexing.html#returning-a-view-versus-a-copy\n",
      "  \"\"\"Entry point for launching an IPython kernel.\n",
      "/Users/vlad3d/opt/anaconda3/envs/TensorFlow2/lib/python3.7/site-packages/ipykernel_launcher.py:2: SettingWithCopyWarning: \n",
      "A value is trying to be set on a copy of a slice from a DataFrame.\n",
      "Try using .loc[row_indexer,col_indexer] = value instead\n",
      "\n",
      "See the caveats in the documentation: https://pandas.pydata.org/pandas-docs/stable/user_guide/indexing.html#returning-a-view-versus-a-copy\n",
      "  \n"
     ]
    }
   ],
   "source": [
    "df_time['del_mod_cre'] = df_time['del_mod_cre'].dt.days\n",
    "df_time['del_mod_pub'] = df_time['del_mod_pub'].dt.days"
   ]
  },
  {
   "cell_type": "code",
   "execution_count": 609,
   "metadata": {},
   "outputs": [
    {
     "data": {
      "text/plain": [
       "0.0"
      ]
     },
     "execution_count": 609,
     "metadata": {},
     "output_type": "execute_result"
    }
   ],
   "source": [
    "df_time.del_mod_cre.min()"
   ]
  },
  {
   "cell_type": "code",
   "execution_count": 612,
   "metadata": {},
   "outputs": [
    {
     "data": {
      "text/html": [
       "<div>\n",
       "<style scoped>\n",
       "    .dataframe tbody tr th:only-of-type {\n",
       "        vertical-align: middle;\n",
       "    }\n",
       "\n",
       "    .dataframe tbody tr th {\n",
       "        vertical-align: top;\n",
       "    }\n",
       "\n",
       "    .dataframe thead th {\n",
       "        text-align: right;\n",
       "    }\n",
       "</style>\n",
       "<table border=\"1\" class=\"dataframe\">\n",
       "  <thead>\n",
       "    <tr style=\"text-align: right;\">\n",
       "      <th></th>\n",
       "      <th>creation_date</th>\n",
       "      <th>modification_date</th>\n",
       "      <th>publish_date</th>\n",
       "      <th>del_mod_cre</th>\n",
       "      <th>del_mod_pub</th>\n",
       "    </tr>\n",
       "  </thead>\n",
       "  <tbody>\n",
       "    <tr>\n",
       "      <th>0</th>\n",
       "      <td>2020-05-07</td>\n",
       "      <td>2020-05-08</td>\n",
       "      <td>2020-05-07</td>\n",
       "      <td>1.0</td>\n",
       "      <td>1.0</td>\n",
       "    </tr>\n",
       "    <tr>\n",
       "      <th>1</th>\n",
       "      <td>2020-10-21</td>\n",
       "      <td>2020-10-27</td>\n",
       "      <td>2020-10-27</td>\n",
       "      <td>6.0</td>\n",
       "      <td>0.0</td>\n",
       "    </tr>\n",
       "    <tr>\n",
       "      <th>2</th>\n",
       "      <td>2019-04-25</td>\n",
       "      <td>2020-02-04</td>\n",
       "      <td>2020-02-04</td>\n",
       "      <td>285.0</td>\n",
       "      <td>0.0</td>\n",
       "    </tr>\n",
       "    <tr>\n",
       "      <th>3</th>\n",
       "      <td>2020-09-19</td>\n",
       "      <td>2020-09-20</td>\n",
       "      <td>2020-09-19</td>\n",
       "      <td>1.0</td>\n",
       "      <td>1.0</td>\n",
       "    </tr>\n",
       "    <tr>\n",
       "      <th>4</th>\n",
       "      <td>2020-04-20</td>\n",
       "      <td>2020-09-09</td>\n",
       "      <td>2020-04-21</td>\n",
       "      <td>142.0</td>\n",
       "      <td>141.0</td>\n",
       "    </tr>\n",
       "    <tr>\n",
       "      <th>5</th>\n",
       "      <td>2019-08-09</td>\n",
       "      <td>2019-08-09</td>\n",
       "      <td>2019-08-09</td>\n",
       "      <td>0.0</td>\n",
       "      <td>0.0</td>\n",
       "    </tr>\n",
       "    <tr>\n",
       "      <th>6</th>\n",
       "      <td>2020-07-23</td>\n",
       "      <td>2020-10-22</td>\n",
       "      <td>2020-08-01</td>\n",
       "      <td>91.0</td>\n",
       "      <td>82.0</td>\n",
       "    </tr>\n",
       "    <tr>\n",
       "      <th>7</th>\n",
       "      <td>2020-05-26</td>\n",
       "      <td>2020-05-27</td>\n",
       "      <td>2020-05-27</td>\n",
       "      <td>1.0</td>\n",
       "      <td>0.0</td>\n",
       "    </tr>\n",
       "    <tr>\n",
       "      <th>8</th>\n",
       "      <td>2020-04-25</td>\n",
       "      <td>2020-07-27</td>\n",
       "      <td>2020-04-25</td>\n",
       "      <td>93.0</td>\n",
       "      <td>93.0</td>\n",
       "    </tr>\n",
       "    <tr>\n",
       "      <th>9</th>\n",
       "      <td>2020-04-17</td>\n",
       "      <td>2020-07-10</td>\n",
       "      <td>2020-04-20</td>\n",
       "      <td>84.0</td>\n",
       "      <td>81.0</td>\n",
       "    </tr>\n",
       "  </tbody>\n",
       "</table>\n",
       "</div>"
      ],
      "text/plain": [
       "  creation_date modification_date publish_date  del_mod_cre  del_mod_pub\n",
       "0    2020-05-07        2020-05-08   2020-05-07          1.0          1.0\n",
       "1    2020-10-21        2020-10-27   2020-10-27          6.0          0.0\n",
       "2    2019-04-25        2020-02-04   2020-02-04        285.0          0.0\n",
       "3    2020-09-19        2020-09-20   2020-09-19          1.0          1.0\n",
       "4    2020-04-20        2020-09-09   2020-04-21        142.0        141.0\n",
       "5    2019-08-09        2019-08-09   2019-08-09          0.0          0.0\n",
       "6    2020-07-23        2020-10-22   2020-08-01         91.0         82.0\n",
       "7    2020-05-26        2020-05-27   2020-05-27          1.0          0.0\n",
       "8    2020-04-25        2020-07-27   2020-04-25         93.0         93.0\n",
       "9    2020-04-17        2020-07-10   2020-04-20         84.0         81.0"
      ]
     },
     "execution_count": 612,
     "metadata": {},
     "output_type": "execute_result"
    }
   ],
   "source": [
    "df_time.head(10)"
   ]
  },
  {
   "cell_type": "code",
   "execution_count": 614,
   "metadata": {},
   "outputs": [
    {
     "data": {
      "text/plain": [
       "(300704, 5)"
      ]
     },
     "execution_count": 614,
     "metadata": {},
     "output_type": "execute_result"
    }
   ],
   "source": [
    "df_time.shape"
   ]
  },
  {
   "cell_type": "code",
   "execution_count": 613,
   "metadata": {},
   "outputs": [],
   "source": [
    "df_time.to_pickle('time_diff_df')"
   ]
  },
  {
   "cell_type": "code",
   "execution_count": 686,
   "metadata": {},
   "outputs": [],
   "source": [
    "#test\n"
   ]
  },
  {
   "cell_type": "code",
   "execution_count": 687,
   "metadata": {},
   "outputs": [
    {
     "name": "stderr",
     "output_type": "stream",
     "text": [
      "/Users/vlad3d/opt/anaconda3/envs/TensorFlow2/lib/python3.7/site-packages/IPython/core/interactiveshell.py:3147: DtypeWarning: Columns (18) have mixed types.Specify dtype option on import or set low_memory=False.\n",
      "  interactivity=interactivity, compiler=compiler, result=result)\n"
     ]
    }
   ],
   "source": [
    "df_test = pd.read_csv('/Users/vlad3d/Hackatons/PANDEMIC_HACK/data/pandemicdatahack/test.csv',sep=';',encoding='utf-8')"
   ]
  },
  {
   "cell_type": "code",
   "execution_count": 689,
   "metadata": {},
   "outputs": [],
   "source": [
    "c11 = df_test.position +','+' '+ df_test.industry\n",
    "c21 = df_test.position +','+' '+ df_test.industry +','+' '+ df_test.region\n",
    "c31 = df_test.position +','+' '+ df_test.industry +','+' '+ df_test.region +','+' '+ df_test.locality_name\n",
    "c41 = df_test.region +','+' '+ df_test.locality_name\n",
    "c51 = df_test.schedule +','+' '+ df_test.employement_type\n",
    "df_custom_features_train = pd.DataFrame(columns=custom_feature_cols)\n",
    "df_custom_features_train.position_industry = c11\n",
    "df_custom_features_train.position_industry_region = c21\n",
    "df_custom_features_train.position_industry_region_locality = c31\n",
    "df_custom_features_train.region_locality_name = c41\n",
    "df_custom_features_train.schedule_employement_type = c51"
   ]
  },
  {
   "cell_type": "code",
   "execution_count": 692,
   "metadata": {},
   "outputs": [],
   "source": [
    "df_custom_features_train.position_industry_region = df_custom_features_train.position_industry_region.astype(str)\n",
    "df_custom_features_train.position_industry_region_locality = df_custom_features_train.position_industry_region_locality.astype(str)\n",
    "df_custom_features_train.region_locality_name = df_custom_features_train.region_locality_name.astype(str)\n",
    "\n",
    "df_custom_features_train.position_industry_region = df_custom_features_train.position_industry_region.str.replace(r'\\d+', '')\n",
    "df_custom_features_train.position_industry_region_locality = df_custom_features_train.position_industry_region_locality.str.replace('\\d+', '')\n",
    "df_custom_features_train.region_locality_name = df_custom_features_train.region_locality_name.str.replace('\\d+', '')\n",
    "\n",
    "df_custom_features_train.position_industry_region = df_custom_features_train.position_industry_region.apply(lambda x: x.lower().replace('unknown', ''))\n",
    "df_custom_features_train.position_industry_region_locality = df_custom_features_train.position_industry_region_locality.apply(lambda x: x.lower().replace('unknown', ''))\n",
    "df_custom_features_train.region_locality_name = df_custom_features_train.region_locality_name.apply(lambda x: x.lower().replace('unknown', ''))\n",
    "\n",
    "df_custom_features_train.position_industry = df_custom_features_train.position_industry.apply(lambda x: x.lower().replace('unknown', ''))\n",
    "df_custom_features_train.schedule_employement_type = df_custom_features_train.schedule_employement_type.apply(lambda x: x.lower().replace('unknown', ''))"
   ]
  },
  {
   "cell_type": "code",
   "execution_count": 693,
   "metadata": {},
   "outputs": [],
   "source": [
    "df_custom_features_train.position_industry = df_custom_features_train.position_industry.apply(lambda x: data_Stemmer(x))\n",
    "df_custom_features_train.schedule_employement_type = df_custom_features_train.schedule_employement_type.apply(lambda x: data_Stemmer(x))\n",
    "df_custom_features_train.position_industry_region = df_custom_features_train.position_industry_region.apply(lambda x: data_Stemmer(x))\n",
    "df_custom_features_train.position_industry_region_locality = df_custom_features_train.position_industry_region_locality.apply(lambda x: data_Stemmer(x))\n",
    "df_custom_features_train.region_locality_name = df_custom_features_train.region_locality_name.apply(lambda x: data_Stemmer(x))"
   ]
  },
  {
   "cell_type": "code",
   "execution_count": 696,
   "metadata": {},
   "outputs": [
    {
     "data": {
      "text/plain": [
       "(131259, 5)"
      ]
     },
     "execution_count": 696,
     "metadata": {},
     "output_type": "execute_result"
    }
   ],
   "source": [
    "df_custom_features_train.shape"
   ]
  },
  {
   "cell_type": "code",
   "execution_count": 697,
   "metadata": {},
   "outputs": [],
   "source": [
    "df_custom_features_train.to_pickle('custom_features_train_df')"
   ]
  },
  {
   "cell_type": "code",
   "execution_count": 744,
   "metadata": {},
   "outputs": [],
   "source": [
    "train_modif = pd.read_pickle('/Users/vlad3d/Hackatons/PANDEMIC_HACK/data_irina/train_modif.pkl')"
   ]
  },
  {
   "cell_type": "code",
   "execution_count": 745,
   "metadata": {},
   "outputs": [
    {
     "data": {
      "text/html": [
       "<div>\n",
       "<style scoped>\n",
       "    .dataframe tbody tr th:only-of-type {\n",
       "        vertical-align: middle;\n",
       "    }\n",
       "\n",
       "    .dataframe tbody tr th {\n",
       "        vertical-align: top;\n",
       "    }\n",
       "\n",
       "    .dataframe thead th {\n",
       "        text-align: right;\n",
       "    }\n",
       "</style>\n",
       "<table border=\"1\" class=\"dataframe\">\n",
       "  <thead>\n",
       "    <tr style=\"text-align: right;\">\n",
       "      <th></th>\n",
       "      <th>day_num</th>\n",
       "      <th>publish_date</th>\n",
       "      <th>id</th>\n",
       "      <th>education_type</th>\n",
       "      <th>type_education_type_0</th>\n",
       "      <th>type_education_type_1</th>\n",
       "      <th>type_education_type_2</th>\n",
       "      <th>type_education_type_3</th>\n",
       "      <th>type_education_type_4</th>\n",
       "      <th>type_education_type_5</th>\n",
       "      <th>...</th>\n",
       "      <th>day_year</th>\n",
       "      <th>vm_schedule</th>\n",
       "      <th>prd_schedule</th>\n",
       "      <th>cg_schedule</th>\n",
       "      <th>gg_schedule</th>\n",
       "      <th>nrd_schedule</th>\n",
       "      <th>neprd_schedule</th>\n",
       "      <th>employement_type_code</th>\n",
       "      <th>employement_type_code_enc</th>\n",
       "      <th>gender_code_enc</th>\n",
       "    </tr>\n",
       "  </thead>\n",
       "  <tbody>\n",
       "    <tr>\n",
       "      <th>0</th>\n",
       "      <td>0</td>\n",
       "      <td>2015-05-21</td>\n",
       "      <td>251360</td>\n",
       "      <td>средний профессиональный</td>\n",
       "      <td>0.008305</td>\n",
       "      <td>0.044853</td>\n",
       "      <td>0.008305</td>\n",
       "      <td>0.044848</td>\n",
       "      <td>0.008305</td>\n",
       "      <td>0.008305</td>\n",
       "      <td>...</td>\n",
       "      <td>141</td>\n",
       "      <td>1</td>\n",
       "      <td>0</td>\n",
       "      <td>0</td>\n",
       "      <td>0</td>\n",
       "      <td>0</td>\n",
       "      <td>0</td>\n",
       "      <td>1</td>\n",
       "      <td>1.000000</td>\n",
       "      <td>1.125000</td>\n",
       "    </tr>\n",
       "    <tr>\n",
       "      <th>1</th>\n",
       "      <td>1</td>\n",
       "      <td>2015-07-03</td>\n",
       "      <td>167701</td>\n",
       "      <td>nan</td>\n",
       "      <td>0.010000</td>\n",
       "      <td>0.010000</td>\n",
       "      <td>0.081429</td>\n",
       "      <td>0.010000</td>\n",
       "      <td>0.010000</td>\n",
       "      <td>0.010000</td>\n",
       "      <td>...</td>\n",
       "      <td>184</td>\n",
       "      <td>1</td>\n",
       "      <td>1</td>\n",
       "      <td>0</td>\n",
       "      <td>0</td>\n",
       "      <td>0</td>\n",
       "      <td>0</td>\n",
       "      <td>1</td>\n",
       "      <td>1.250000</td>\n",
       "      <td>1.500000</td>\n",
       "    </tr>\n",
       "    <tr>\n",
       "      <th>2</th>\n",
       "      <td>2</td>\n",
       "      <td>2015-07-08</td>\n",
       "      <td>220081</td>\n",
       "      <td>высокий</td>\n",
       "      <td>0.010000</td>\n",
       "      <td>0.010000</td>\n",
       "      <td>0.010000</td>\n",
       "      <td>0.010000</td>\n",
       "      <td>0.045714</td>\n",
       "      <td>0.045714</td>\n",
       "      <td>...</td>\n",
       "      <td>189</td>\n",
       "      <td>0</td>\n",
       "      <td>1</td>\n",
       "      <td>0</td>\n",
       "      <td>0</td>\n",
       "      <td>0</td>\n",
       "      <td>0</td>\n",
       "      <td>1</td>\n",
       "      <td>1.167939</td>\n",
       "      <td>1.217391</td>\n",
       "    </tr>\n",
       "    <tr>\n",
       "      <th>3</th>\n",
       "      <td>2</td>\n",
       "      <td>2015-07-08</td>\n",
       "      <td>71198</td>\n",
       "      <td>nan</td>\n",
       "      <td>0.010000</td>\n",
       "      <td>0.010000</td>\n",
       "      <td>0.081429</td>\n",
       "      <td>0.010000</td>\n",
       "      <td>0.010000</td>\n",
       "      <td>0.010000</td>\n",
       "      <td>...</td>\n",
       "      <td>189</td>\n",
       "      <td>0</td>\n",
       "      <td>1</td>\n",
       "      <td>0</td>\n",
       "      <td>0</td>\n",
       "      <td>0</td>\n",
       "      <td>0</td>\n",
       "      <td>1</td>\n",
       "      <td>1.153447</td>\n",
       "      <td>1.444444</td>\n",
       "    </tr>\n",
       "    <tr>\n",
       "      <th>4</th>\n",
       "      <td>3</td>\n",
       "      <td>2015-07-10</td>\n",
       "      <td>282404</td>\n",
       "      <td>высокий</td>\n",
       "      <td>0.010000</td>\n",
       "      <td>0.010000</td>\n",
       "      <td>0.010000</td>\n",
       "      <td>0.010000</td>\n",
       "      <td>0.045714</td>\n",
       "      <td>0.045714</td>\n",
       "      <td>...</td>\n",
       "      <td>191</td>\n",
       "      <td>0</td>\n",
       "      <td>1</td>\n",
       "      <td>0</td>\n",
       "      <td>0</td>\n",
       "      <td>0</td>\n",
       "      <td>0</td>\n",
       "      <td>1</td>\n",
       "      <td>1.130588</td>\n",
       "      <td>1.521739</td>\n",
       "    </tr>\n",
       "  </tbody>\n",
       "</table>\n",
       "<p>5 rows × 306 columns</p>\n",
       "</div>"
      ],
      "text/plain": [
       "   day_num publish_date      id            education_type  \\\n",
       "0        0   2015-05-21  251360  средний профессиональный   \n",
       "1        1   2015-07-03  167701                       nan   \n",
       "2        2   2015-07-08  220081                   высокий   \n",
       "3        2   2015-07-08   71198                       nan   \n",
       "4        3   2015-07-10  282404                   высокий   \n",
       "\n",
       "   type_education_type_0  type_education_type_1  type_education_type_2  \\\n",
       "0               0.008305               0.044853               0.008305   \n",
       "1               0.010000               0.010000               0.081429   \n",
       "2               0.010000               0.010000               0.010000   \n",
       "3               0.010000               0.010000               0.081429   \n",
       "4               0.010000               0.010000               0.010000   \n",
       "\n",
       "   type_education_type_3  type_education_type_4  type_education_type_5  ...  \\\n",
       "0               0.044848               0.008305               0.008305  ...   \n",
       "1               0.010000               0.010000               0.010000  ...   \n",
       "2               0.010000               0.045714               0.045714  ...   \n",
       "3               0.010000               0.010000               0.010000  ...   \n",
       "4               0.010000               0.045714               0.045714  ...   \n",
       "\n",
       "   day_year  vm_schedule  prd_schedule  cg_schedule  gg_schedule  \\\n",
       "0       141            1             0            0            0   \n",
       "1       184            1             1            0            0   \n",
       "2       189            0             1            0            0   \n",
       "3       189            0             1            0            0   \n",
       "4       191            0             1            0            0   \n",
       "\n",
       "   nrd_schedule  neprd_schedule  employement_type_code  \\\n",
       "0             0               0                      1   \n",
       "1             0               0                      1   \n",
       "2             0               0                      1   \n",
       "3             0               0                      1   \n",
       "4             0               0                      1   \n",
       "\n",
       "   employement_type_code_enc  gender_code_enc  \n",
       "0                   1.000000         1.125000  \n",
       "1                   1.250000         1.500000  \n",
       "2                   1.167939         1.217391  \n",
       "3                   1.153447         1.444444  \n",
       "4                   1.130588         1.521739  \n",
       "\n",
       "[5 rows x 306 columns]"
      ]
     },
     "execution_count": 745,
     "metadata": {},
     "output_type": "execute_result"
    }
   ],
   "source": [
    "train_modif.head()"
   ]
  },
  {
   "cell_type": "code",
   "execution_count": 761,
   "metadata": {},
   "outputs": [
    {
     "data": {
      "text/plain": [
       "высокий                     135436\n",
       "средний профессиональный     79375\n",
       "nan                          40032\n",
       "средний                      38991\n",
       "незаконченный высокий        12436\n",
       "Name: education_type, dtype: int64"
      ]
     },
     "execution_count": 761,
     "metadata": {},
     "output_type": "execute_result"
    }
   ],
   "source": [
    "train_modif.education_type.value_counts()"
   ]
  },
  {
   "cell_type": "code",
   "execution_count": 760,
   "metadata": {},
   "outputs": [
    {
     "data": {
      "text/plain": [
       "0"
      ]
     },
     "execution_count": 760,
     "metadata": {},
     "output_type": "execute_result"
    }
   ],
   "source": [
    "train_modif.education_type.isna().sum()"
   ]
  },
  {
   "cell_type": "code",
   "execution_count": 781,
   "metadata": {},
   "outputs": [
    {
     "data": {
      "text/plain": [
       "0"
      ]
     },
     "execution_count": 781,
     "metadata": {},
     "output_type": "execute_result"
    }
   ],
   "source": [
    "df_tr.age.isna().sum()"
   ]
  },
  {
   "cell_type": "code",
   "execution_count": 787,
   "metadata": {},
   "outputs": [
    {
     "data": {
      "text/plain": [
       "id                                     int64\n",
       "position                              object\n",
       "region                                object\n",
       "industry                              object\n",
       "locality                               int64\n",
       "locality_name                         object\n",
       "education_type                        object\n",
       "drive_licences                        object\n",
       "citizenship                           object\n",
       "schedule                              object\n",
       "employement_type                      object\n",
       "age                                  float64\n",
       "gender                                object\n",
       "experience                             int64\n",
       "salary_desired                         int64\n",
       "relocation_ready                        bool\n",
       "travel_ready                            bool\n",
       "retraining_ready                        bool\n",
       "is_worldskills_participant            object\n",
       "has_qualifications                      bool\n",
       "completeness_rate                    float64\n",
       "creation_date                 datetime64[ns]\n",
       "modification_date             datetime64[ns]\n",
       "publish_date                  datetime64[ns]\n",
       "salary                                 int64\n",
       "dtype: object"
      ]
     },
     "execution_count": 787,
     "metadata": {},
     "output_type": "execute_result"
    }
   ],
   "source": [
    "df_tr.dtypes"
   ]
  },
  {
   "cell_type": "code",
   "execution_count": null,
   "metadata": {},
   "outputs": [],
   "source": []
  }
 ],
 "metadata": {
  "kernelspec": {
   "display_name": "Python 3",
   "language": "python",
   "name": "python3"
  },
  "language_info": {
   "codemirror_mode": {
    "name": "ipython",
    "version": 3
   },
   "file_extension": ".py",
   "mimetype": "text/x-python",
   "name": "python",
   "nbconvert_exporter": "python",
   "pygments_lexer": "ipython3",
   "version": "3.7.7"
  }
 },
 "nbformat": 4,
 "nbformat_minor": 4
}
